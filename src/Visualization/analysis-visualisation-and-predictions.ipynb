{
 "cells": [
  {
   "cell_type": "code",
   "execution_count": 1,
   "id": "3d27e4a7",
   "metadata": {
    "_cell_guid": "b1076dfc-b9ad-4769-8c92-a6c4dae69d19",
    "_uuid": "8f2839f25d086af736a60e9eeb907d3b93b6e0e5",
    "execution": {
     "iopub.execute_input": "2022-04-20T17:25:06.570882Z",
     "iopub.status.busy": "2022-04-20T17:25:06.569669Z",
     "iopub.status.idle": "2022-04-20T17:25:06.578614Z",
     "shell.execute_reply": "2022-04-20T17:25:06.579123Z",
     "shell.execute_reply.started": "2022-04-20T17:22:02.811549Z"
    },
    "papermill": {
     "duration": 0.06812,
     "end_time": "2022-04-20T17:25:06.579446",
     "exception": false,
     "start_time": "2022-04-20T17:25:06.511326",
     "status": "completed"
    },
    "tags": []
   },
   "outputs": [],
   "source": [
    "import numpy as np   # linear algebra\n",
    "import pandas as pd # data processing\n",
    "import warnings    # ignore the warnings\n",
    "warnings.filterwarnings('ignore')"
   ]
  },
  {
   "cell_type": "markdown",
   "id": "ff1bc6e3",
   "metadata": {
    "papermill": {
     "duration": 0.054935,
     "end_time": "2022-04-20T17:25:06.688447",
     "exception": false,
     "start_time": "2022-04-20T17:25:06.633512",
     "status": "completed"
    },
    "tags": []
   },
   "source": [
    "**Reading the Datasets**"
   ]
  },
  {
   "cell_type": "code",
   "execution_count": 2,
   "id": "a146e778",
   "metadata": {
    "execution": {
     "iopub.execute_input": "2022-04-20T17:25:06.801877Z",
     "iopub.status.busy": "2022-04-20T17:25:06.801118Z",
     "iopub.status.idle": "2022-04-20T17:25:06.839307Z",
     "shell.execute_reply": "2022-04-20T17:25:06.839899Z",
     "shell.execute_reply.started": "2022-04-20T17:17:43.341136Z"
    },
    "papermill": {
     "duration": 0.098047,
     "end_time": "2022-04-20T17:25:06.840071",
     "exception": false,
     "start_time": "2022-04-20T17:25:06.742024",
     "status": "completed"
    },
    "tags": []
   },
   "outputs": [
    {
     "data": {
      "text/html": [
       "<div>\n",
       "<style scoped>\n",
       "    .dataframe tbody tr th:only-of-type {\n",
       "        vertical-align: middle;\n",
       "    }\n",
       "\n",
       "    .dataframe tbody tr th {\n",
       "        vertical-align: top;\n",
       "    }\n",
       "\n",
       "    .dataframe thead th {\n",
       "        text-align: right;\n",
       "    }\n",
       "</style>\n",
       "<table border=\"1\" class=\"dataframe\">\n",
       "  <thead>\n",
       "    <tr style=\"text-align: right;\">\n",
       "      <th></th>\n",
       "      <th>Date</th>\n",
       "      <th>Price</th>\n",
       "    </tr>\n",
       "  </thead>\n",
       "  <tbody>\n",
       "    <tr>\n",
       "      <th>0</th>\n",
       "      <td>2017-11-06</td>\n",
       "      <td>1.562341</td>\n",
       "    </tr>\n",
       "    <tr>\n",
       "      <th>1</th>\n",
       "      <td>2017-11-13</td>\n",
       "      <td>1.825773</td>\n",
       "    </tr>\n",
       "    <tr>\n",
       "      <th>2</th>\n",
       "      <td>2017-11-20</td>\n",
       "      <td>2.349590</td>\n",
       "    </tr>\n",
       "    <tr>\n",
       "      <th>3</th>\n",
       "      <td>2017-11-27</td>\n",
       "      <td>8.502870</td>\n",
       "    </tr>\n",
       "    <tr>\n",
       "      <th>4</th>\n",
       "      <td>2017-12-04</td>\n",
       "      <td>7.109816</td>\n",
       "    </tr>\n",
       "  </tbody>\n",
       "</table>\n",
       "</div>"
      ],
      "text/plain": [
       "         Date     Price\n",
       "0  2017-11-06  1.562341\n",
       "1  2017-11-13  1.825773\n",
       "2  2017-11-20  2.349590\n",
       "3  2017-11-27  8.502870\n",
       "4  2017-12-04  7.109816"
      ]
     },
     "execution_count": 2,
     "metadata": {},
     "output_type": "execute_result"
    }
   ],
   "source": [
    "#ADA\n",
    "ada=pd.read_csv(\"../input/crypto-data/ada_data.csv\",index_col=0)\n",
    "ada.rename(columns={\"0\":\"Date\", \"1\":\"Price\"},inplace = True)\n",
    "ada.head()"
   ]
  },
  {
   "cell_type": "code",
   "execution_count": 3,
   "id": "238ee327",
   "metadata": {
    "execution": {
     "iopub.execute_input": "2022-04-20T17:25:06.959502Z",
     "iopub.status.busy": "2022-04-20T17:25:06.958790Z",
     "iopub.status.idle": "2022-04-20T17:25:06.977077Z",
     "shell.execute_reply": "2022-04-20T17:25:06.977706Z",
     "shell.execute_reply.started": "2022-04-20T17:17:43.399255Z"
    },
    "papermill": {
     "duration": 0.080201,
     "end_time": "2022-04-20T17:25:06.977884",
     "exception": false,
     "start_time": "2022-04-20T17:25:06.897683",
     "status": "completed"
    },
    "tags": []
   },
   "outputs": [
    {
     "data": {
      "text/html": [
       "<div>\n",
       "<style scoped>\n",
       "    .dataframe tbody tr th:only-of-type {\n",
       "        vertical-align: middle;\n",
       "    }\n",
       "\n",
       "    .dataframe tbody tr th {\n",
       "        vertical-align: top;\n",
       "    }\n",
       "\n",
       "    .dataframe thead th {\n",
       "        text-align: right;\n",
       "    }\n",
       "</style>\n",
       "<table border=\"1\" class=\"dataframe\">\n",
       "  <thead>\n",
       "    <tr style=\"text-align: right;\">\n",
       "      <th></th>\n",
       "      <th>Date</th>\n",
       "      <th>Price</th>\n",
       "    </tr>\n",
       "  </thead>\n",
       "  <tbody>\n",
       "    <tr>\n",
       "      <th>0</th>\n",
       "      <td>2014-09-15</td>\n",
       "      <td>24268.258</td>\n",
       "    </tr>\n",
       "    <tr>\n",
       "      <th>1</th>\n",
       "      <td>2014-09-22</td>\n",
       "      <td>23060.846</td>\n",
       "    </tr>\n",
       "    <tr>\n",
       "      <th>2</th>\n",
       "      <td>2014-09-29</td>\n",
       "      <td>19722.584</td>\n",
       "    </tr>\n",
       "    <tr>\n",
       "      <th>3</th>\n",
       "      <td>2014-10-06</td>\n",
       "      <td>23193.697</td>\n",
       "    </tr>\n",
       "    <tr>\n",
       "      <th>4</th>\n",
       "      <td>2014-10-13</td>\n",
       "      <td>23898.646</td>\n",
       "    </tr>\n",
       "  </tbody>\n",
       "</table>\n",
       "</div>"
      ],
      "text/plain": [
       "         Date      Price\n",
       "0  2014-09-15  24268.258\n",
       "1  2014-09-22  23060.846\n",
       "2  2014-09-29  19722.584\n",
       "3  2014-10-06  23193.697\n",
       "4  2014-10-13  23898.646"
      ]
     },
     "execution_count": 3,
     "metadata": {},
     "output_type": "execute_result"
    }
   ],
   "source": [
    "#BTC\n",
    "btc=pd.read_csv(\"../input/crypto-data/btc_data.csv\",index_col=0)\n",
    "btc.rename(columns={\"0\" : \"Date\",\"1\":\"Price\"},inplace = True)\n",
    "btc.head()"
   ]
  },
  {
   "cell_type": "code",
   "execution_count": 4,
   "id": "363eeed2",
   "metadata": {
    "execution": {
     "iopub.execute_input": "2022-04-20T17:25:07.090729Z",
     "iopub.status.busy": "2022-04-20T17:25:07.090083Z",
     "iopub.status.idle": "2022-04-20T17:25:07.104979Z",
     "shell.execute_reply": "2022-04-20T17:25:07.105602Z",
     "shell.execute_reply.started": "2022-04-20T17:17:43.421682Z"
    },
    "papermill": {
     "duration": 0.073574,
     "end_time": "2022-04-20T17:25:07.105782",
     "exception": false,
     "start_time": "2022-04-20T17:25:07.032208",
     "status": "completed"
    },
    "tags": []
   },
   "outputs": [
    {
     "data": {
      "text/html": [
       "<div>\n",
       "<style scoped>\n",
       "    .dataframe tbody tr th:only-of-type {\n",
       "        vertical-align: middle;\n",
       "    }\n",
       "\n",
       "    .dataframe tbody tr th {\n",
       "        vertical-align: top;\n",
       "    }\n",
       "\n",
       "    .dataframe thead th {\n",
       "        text-align: right;\n",
       "    }\n",
       "</style>\n",
       "<table border=\"1\" class=\"dataframe\">\n",
       "  <thead>\n",
       "    <tr style=\"text-align: right;\">\n",
       "      <th></th>\n",
       "      <th>Date</th>\n",
       "      <th>Price</th>\n",
       "    </tr>\n",
       "  </thead>\n",
       "  <tbody>\n",
       "    <tr>\n",
       "      <th>0</th>\n",
       "      <td>2014-09-15</td>\n",
       "      <td>24268.258</td>\n",
       "    </tr>\n",
       "    <tr>\n",
       "      <th>1</th>\n",
       "      <td>2014-09-22</td>\n",
       "      <td>23060.846</td>\n",
       "    </tr>\n",
       "    <tr>\n",
       "      <th>2</th>\n",
       "      <td>2014-09-29</td>\n",
       "      <td>19722.584</td>\n",
       "    </tr>\n",
       "    <tr>\n",
       "      <th>3</th>\n",
       "      <td>2014-10-06</td>\n",
       "      <td>23193.697</td>\n",
       "    </tr>\n",
       "    <tr>\n",
       "      <th>4</th>\n",
       "      <td>2014-10-13</td>\n",
       "      <td>23898.646</td>\n",
       "    </tr>\n",
       "  </tbody>\n",
       "</table>\n",
       "</div>"
      ],
      "text/plain": [
       "         Date      Price\n",
       "0  2014-09-15  24268.258\n",
       "1  2014-09-22  23060.846\n",
       "2  2014-09-29  19722.584\n",
       "3  2014-10-06  23193.697\n",
       "4  2014-10-13  23898.646"
      ]
     },
     "execution_count": 4,
     "metadata": {},
     "output_type": "execute_result"
    }
   ],
   "source": [
    "#ETH\n",
    "eth=pd.read_csv(\"../input/crypto-data/btc_data.csv\",index_col=0)\n",
    "eth.rename(columns={\"0\" : \"Date\",\"1\":\"Price\"},inplace = True)\n",
    "eth.head()"
   ]
  },
  {
   "cell_type": "markdown",
   "id": "7d402e6b",
   "metadata": {
    "papermill": {
     "duration": 0.054793,
     "end_time": "2022-04-20T17:25:07.215669",
     "exception": false,
     "start_time": "2022-04-20T17:25:07.160876",
     "status": "completed"
    },
    "tags": []
   },
   "source": [
    "## Data Analysis and Visualisation "
   ]
  },
  {
   "cell_type": "code",
   "execution_count": 5,
   "id": "8d4190b0",
   "metadata": {
    "execution": {
     "iopub.execute_input": "2022-04-20T17:25:07.329005Z",
     "iopub.status.busy": "2022-04-20T17:25:07.328277Z",
     "iopub.status.idle": "2022-04-20T17:25:08.429061Z",
     "shell.execute_reply": "2022-04-20T17:25:08.427887Z",
     "shell.execute_reply.started": "2022-04-20T17:17:43.440942Z"
    },
    "papermill": {
     "duration": 1.158903,
     "end_time": "2022-04-20T17:25:08.429217",
     "exception": false,
     "start_time": "2022-04-20T17:25:07.270314",
     "status": "completed"
    },
    "tags": []
   },
   "outputs": [],
   "source": [
    "import matplotlib.pyplot as plt\n",
    "import seaborn as sns"
   ]
  },
  {
   "cell_type": "markdown",
   "id": "5385ed48",
   "metadata": {
    "papermill": {
     "duration": 0.055044,
     "end_time": "2022-04-20T17:25:08.539987",
     "exception": false,
     "start_time": "2022-04-20T17:25:08.484943",
     "status": "completed"
    },
    "tags": []
   },
   "source": [
    "**Adding a column crypto_name for all the 3 datasets separately**"
   ]
  },
  {
   "cell_type": "code",
   "execution_count": 6,
   "id": "0f1239c7",
   "metadata": {
    "execution": {
     "iopub.execute_input": "2022-04-20T17:25:08.659178Z",
     "iopub.status.busy": "2022-04-20T17:25:08.658481Z",
     "iopub.status.idle": "2022-04-20T17:25:08.719541Z",
     "shell.execute_reply": "2022-04-20T17:25:08.720135Z",
     "shell.execute_reply.started": "2022-04-20T17:17:44.862429Z"
    },
    "papermill": {
     "duration": 0.125541,
     "end_time": "2022-04-20T17:25:08.720314",
     "exception": false,
     "start_time": "2022-04-20T17:25:08.594773",
     "status": "completed"
    },
    "tags": []
   },
   "outputs": [],
   "source": [
    "for i in range(0,len(ada)):\n",
    "    ada['crypto_name']='ada'\n",
    "    \n",
    "for i in range(0,len(btc)):\n",
    "    btc['crypto_name']='btc'\n",
    "    \n",
    "for i in range(0,len(eth)):\n",
    "    eth['crypto_name']='eth'"
   ]
  },
  {
   "cell_type": "markdown",
   "id": "daa89b7d",
   "metadata": {
    "papermill": {
     "duration": 0.056045,
     "end_time": "2022-04-20T17:25:08.833871",
     "exception": false,
     "start_time": "2022-04-20T17:25:08.777826",
     "status": "completed"
    },
    "tags": []
   },
   "source": [
    "**Viewing the updated datasets**"
   ]
  },
  {
   "cell_type": "code",
   "execution_count": 7,
   "id": "8c270f97",
   "metadata": {
    "execution": {
     "iopub.execute_input": "2022-04-20T17:25:08.956299Z",
     "iopub.status.busy": "2022-04-20T17:25:08.955543Z",
     "iopub.status.idle": "2022-04-20T17:25:08.958330Z",
     "shell.execute_reply": "2022-04-20T17:25:08.958971Z",
     "shell.execute_reply.started": "2022-04-20T17:17:44.948000Z"
    },
    "papermill": {
     "duration": 0.070067,
     "end_time": "2022-04-20T17:25:08.959142",
     "exception": false,
     "start_time": "2022-04-20T17:25:08.889075",
     "status": "completed"
    },
    "tags": []
   },
   "outputs": [
    {
     "data": {
      "text/html": [
       "<div>\n",
       "<style scoped>\n",
       "    .dataframe tbody tr th:only-of-type {\n",
       "        vertical-align: middle;\n",
       "    }\n",
       "\n",
       "    .dataframe tbody tr th {\n",
       "        vertical-align: top;\n",
       "    }\n",
       "\n",
       "    .dataframe thead th {\n",
       "        text-align: right;\n",
       "    }\n",
       "</style>\n",
       "<table border=\"1\" class=\"dataframe\">\n",
       "  <thead>\n",
       "    <tr style=\"text-align: right;\">\n",
       "      <th></th>\n",
       "      <th>Date</th>\n",
       "      <th>Price</th>\n",
       "      <th>crypto_name</th>\n",
       "    </tr>\n",
       "  </thead>\n",
       "  <tbody>\n",
       "    <tr>\n",
       "      <th>0</th>\n",
       "      <td>2017-11-06</td>\n",
       "      <td>1.562341</td>\n",
       "      <td>ada</td>\n",
       "    </tr>\n",
       "    <tr>\n",
       "      <th>1</th>\n",
       "      <td>2017-11-13</td>\n",
       "      <td>1.825773</td>\n",
       "      <td>ada</td>\n",
       "    </tr>\n",
       "    <tr>\n",
       "      <th>2</th>\n",
       "      <td>2017-11-20</td>\n",
       "      <td>2.349590</td>\n",
       "      <td>ada</td>\n",
       "    </tr>\n",
       "    <tr>\n",
       "      <th>3</th>\n",
       "      <td>2017-11-27</td>\n",
       "      <td>8.502870</td>\n",
       "      <td>ada</td>\n",
       "    </tr>\n",
       "    <tr>\n",
       "      <th>4</th>\n",
       "      <td>2017-12-04</td>\n",
       "      <td>7.109816</td>\n",
       "      <td>ada</td>\n",
       "    </tr>\n",
       "  </tbody>\n",
       "</table>\n",
       "</div>"
      ],
      "text/plain": [
       "         Date     Price crypto_name\n",
       "0  2017-11-06  1.562341         ada\n",
       "1  2017-11-13  1.825773         ada\n",
       "2  2017-11-20  2.349590         ada\n",
       "3  2017-11-27  8.502870         ada\n",
       "4  2017-12-04  7.109816         ada"
      ]
     },
     "execution_count": 7,
     "metadata": {},
     "output_type": "execute_result"
    }
   ],
   "source": [
    "ada.head()"
   ]
  },
  {
   "cell_type": "code",
   "execution_count": 8,
   "id": "820c99ed",
   "metadata": {
    "execution": {
     "iopub.execute_input": "2022-04-20T17:25:09.076195Z",
     "iopub.status.busy": "2022-04-20T17:25:09.073435Z",
     "iopub.status.idle": "2022-04-20T17:25:09.084346Z",
     "shell.execute_reply": "2022-04-20T17:25:09.084993Z",
     "shell.execute_reply.started": "2022-04-20T17:17:44.967571Z"
    },
    "papermill": {
     "duration": 0.070291,
     "end_time": "2022-04-20T17:25:09.085164",
     "exception": false,
     "start_time": "2022-04-20T17:25:09.014873",
     "status": "completed"
    },
    "tags": []
   },
   "outputs": [
    {
     "data": {
      "text/html": [
       "<div>\n",
       "<style scoped>\n",
       "    .dataframe tbody tr th:only-of-type {\n",
       "        vertical-align: middle;\n",
       "    }\n",
       "\n",
       "    .dataframe tbody tr th {\n",
       "        vertical-align: top;\n",
       "    }\n",
       "\n",
       "    .dataframe thead th {\n",
       "        text-align: right;\n",
       "    }\n",
       "</style>\n",
       "<table border=\"1\" class=\"dataframe\">\n",
       "  <thead>\n",
       "    <tr style=\"text-align: right;\">\n",
       "      <th></th>\n",
       "      <th>Date</th>\n",
       "      <th>Price</th>\n",
       "      <th>crypto_name</th>\n",
       "    </tr>\n",
       "  </thead>\n",
       "  <tbody>\n",
       "    <tr>\n",
       "      <th>0</th>\n",
       "      <td>2014-09-15</td>\n",
       "      <td>24268.258</td>\n",
       "      <td>btc</td>\n",
       "    </tr>\n",
       "    <tr>\n",
       "      <th>1</th>\n",
       "      <td>2014-09-22</td>\n",
       "      <td>23060.846</td>\n",
       "      <td>btc</td>\n",
       "    </tr>\n",
       "    <tr>\n",
       "      <th>2</th>\n",
       "      <td>2014-09-29</td>\n",
       "      <td>19722.584</td>\n",
       "      <td>btc</td>\n",
       "    </tr>\n",
       "    <tr>\n",
       "      <th>3</th>\n",
       "      <td>2014-10-06</td>\n",
       "      <td>23193.697</td>\n",
       "      <td>btc</td>\n",
       "    </tr>\n",
       "    <tr>\n",
       "      <th>4</th>\n",
       "      <td>2014-10-13</td>\n",
       "      <td>23898.646</td>\n",
       "      <td>btc</td>\n",
       "    </tr>\n",
       "  </tbody>\n",
       "</table>\n",
       "</div>"
      ],
      "text/plain": [
       "         Date      Price crypto_name\n",
       "0  2014-09-15  24268.258         btc\n",
       "1  2014-09-22  23060.846         btc\n",
       "2  2014-09-29  19722.584         btc\n",
       "3  2014-10-06  23193.697         btc\n",
       "4  2014-10-13  23898.646         btc"
      ]
     },
     "execution_count": 8,
     "metadata": {},
     "output_type": "execute_result"
    }
   ],
   "source": [
    "btc.head()"
   ]
  },
  {
   "cell_type": "code",
   "execution_count": 9,
   "id": "3d556549",
   "metadata": {
    "execution": {
     "iopub.execute_input": "2022-04-20T17:25:09.213924Z",
     "iopub.status.busy": "2022-04-20T17:25:09.212959Z",
     "iopub.status.idle": "2022-04-20T17:25:09.217213Z",
     "shell.execute_reply": "2022-04-20T17:25:09.216715Z",
     "shell.execute_reply.started": "2022-04-20T17:17:44.985362Z"
    },
    "papermill": {
     "duration": 0.073838,
     "end_time": "2022-04-20T17:25:09.217374",
     "exception": false,
     "start_time": "2022-04-20T17:25:09.143536",
     "status": "completed"
    },
    "tags": []
   },
   "outputs": [
    {
     "data": {
      "text/html": [
       "<div>\n",
       "<style scoped>\n",
       "    .dataframe tbody tr th:only-of-type {\n",
       "        vertical-align: middle;\n",
       "    }\n",
       "\n",
       "    .dataframe tbody tr th {\n",
       "        vertical-align: top;\n",
       "    }\n",
       "\n",
       "    .dataframe thead th {\n",
       "        text-align: right;\n",
       "    }\n",
       "</style>\n",
       "<table border=\"1\" class=\"dataframe\">\n",
       "  <thead>\n",
       "    <tr style=\"text-align: right;\">\n",
       "      <th></th>\n",
       "      <th>Date</th>\n",
       "      <th>Price</th>\n",
       "      <th>crypto_name</th>\n",
       "    </tr>\n",
       "  </thead>\n",
       "  <tbody>\n",
       "    <tr>\n",
       "      <th>0</th>\n",
       "      <td>2014-09-15</td>\n",
       "      <td>24268.258</td>\n",
       "      <td>eth</td>\n",
       "    </tr>\n",
       "    <tr>\n",
       "      <th>1</th>\n",
       "      <td>2014-09-22</td>\n",
       "      <td>23060.846</td>\n",
       "      <td>eth</td>\n",
       "    </tr>\n",
       "    <tr>\n",
       "      <th>2</th>\n",
       "      <td>2014-09-29</td>\n",
       "      <td>19722.584</td>\n",
       "      <td>eth</td>\n",
       "    </tr>\n",
       "    <tr>\n",
       "      <th>3</th>\n",
       "      <td>2014-10-06</td>\n",
       "      <td>23193.697</td>\n",
       "      <td>eth</td>\n",
       "    </tr>\n",
       "    <tr>\n",
       "      <th>4</th>\n",
       "      <td>2014-10-13</td>\n",
       "      <td>23898.646</td>\n",
       "      <td>eth</td>\n",
       "    </tr>\n",
       "  </tbody>\n",
       "</table>\n",
       "</div>"
      ],
      "text/plain": [
       "         Date      Price crypto_name\n",
       "0  2014-09-15  24268.258         eth\n",
       "1  2014-09-22  23060.846         eth\n",
       "2  2014-09-29  19722.584         eth\n",
       "3  2014-10-06  23193.697         eth\n",
       "4  2014-10-13  23898.646         eth"
      ]
     },
     "execution_count": 9,
     "metadata": {},
     "output_type": "execute_result"
    }
   ],
   "source": [
    "eth.head()"
   ]
  },
  {
   "cell_type": "markdown",
   "id": "40be94c5",
   "metadata": {
    "papermill": {
     "duration": 0.057437,
     "end_time": "2022-04-20T17:25:09.331409",
     "exception": false,
     "start_time": "2022-04-20T17:25:09.273972",
     "status": "completed"
    },
    "tags": []
   },
   "source": [
    "**Concatenating the dataframes to form a new dataframe**"
   ]
  },
  {
   "cell_type": "code",
   "execution_count": 10,
   "id": "b76ed3a8",
   "metadata": {
    "execution": {
     "iopub.execute_input": "2022-04-20T17:25:09.451573Z",
     "iopub.status.busy": "2022-04-20T17:25:09.450646Z",
     "iopub.status.idle": "2022-04-20T17:25:09.453328Z",
     "shell.execute_reply": "2022-04-20T17:25:09.452804Z",
     "shell.execute_reply.started": "2022-04-20T17:17:45.005270Z"
    },
    "papermill": {
     "duration": 0.065712,
     "end_time": "2022-04-20T17:25:09.453504",
     "exception": false,
     "start_time": "2022-04-20T17:25:09.387792",
     "status": "completed"
    },
    "tags": []
   },
   "outputs": [],
   "source": [
    "new_df = pd.concat([ada,btc,eth])"
   ]
  },
  {
   "cell_type": "markdown",
   "id": "9cd2c4a4",
   "metadata": {
    "papermill": {
     "duration": 0.056361,
     "end_time": "2022-04-20T17:25:09.567403",
     "exception": false,
     "start_time": "2022-04-20T17:25:09.511042",
     "status": "completed"
    },
    "tags": []
   },
   "source": [
    "**Viewing the new dataset**"
   ]
  },
  {
   "cell_type": "code",
   "execution_count": 11,
   "id": "d9bc49b2",
   "metadata": {
    "execution": {
     "iopub.execute_input": "2022-04-20T17:25:09.684440Z",
     "iopub.status.busy": "2022-04-20T17:25:09.683776Z",
     "iopub.status.idle": "2022-04-20T17:25:09.697123Z",
     "shell.execute_reply": "2022-04-20T17:25:09.697740Z",
     "shell.execute_reply.started": "2022-04-20T17:17:45.023139Z"
    },
    "papermill": {
     "duration": 0.073507,
     "end_time": "2022-04-20T17:25:09.697927",
     "exception": false,
     "start_time": "2022-04-20T17:25:09.624420",
     "status": "completed"
    },
    "tags": []
   },
   "outputs": [
    {
     "data": {
      "text/html": [
       "<div>\n",
       "<style scoped>\n",
       "    .dataframe tbody tr th:only-of-type {\n",
       "        vertical-align: middle;\n",
       "    }\n",
       "\n",
       "    .dataframe tbody tr th {\n",
       "        vertical-align: top;\n",
       "    }\n",
       "\n",
       "    .dataframe thead th {\n",
       "        text-align: right;\n",
       "    }\n",
       "</style>\n",
       "<table border=\"1\" class=\"dataframe\">\n",
       "  <thead>\n",
       "    <tr style=\"text-align: right;\">\n",
       "      <th></th>\n",
       "      <th>Date</th>\n",
       "      <th>Price</th>\n",
       "      <th>crypto_name</th>\n",
       "    </tr>\n",
       "  </thead>\n",
       "  <tbody>\n",
       "    <tr>\n",
       "      <th>0</th>\n",
       "      <td>2017-11-06</td>\n",
       "      <td>1.562341e+00</td>\n",
       "      <td>ada</td>\n",
       "    </tr>\n",
       "    <tr>\n",
       "      <th>1</th>\n",
       "      <td>2017-11-13</td>\n",
       "      <td>1.825773e+00</td>\n",
       "      <td>ada</td>\n",
       "    </tr>\n",
       "    <tr>\n",
       "      <th>2</th>\n",
       "      <td>2017-11-20</td>\n",
       "      <td>2.349590e+00</td>\n",
       "      <td>ada</td>\n",
       "    </tr>\n",
       "    <tr>\n",
       "      <th>3</th>\n",
       "      <td>2017-11-27</td>\n",
       "      <td>8.502870e+00</td>\n",
       "      <td>ada</td>\n",
       "    </tr>\n",
       "    <tr>\n",
       "      <th>4</th>\n",
       "      <td>2017-12-04</td>\n",
       "      <td>7.109816e+00</td>\n",
       "      <td>ada</td>\n",
       "    </tr>\n",
       "    <tr>\n",
       "      <th>...</th>\n",
       "      <td>...</td>\n",
       "      <td>...</td>\n",
       "      <td>...</td>\n",
       "    </tr>\n",
       "    <tr>\n",
       "      <th>387</th>\n",
       "      <td>2022-02-14</td>\n",
       "      <td>2.870256e+06</td>\n",
       "      <td>eth</td>\n",
       "    </tr>\n",
       "    <tr>\n",
       "      <th>388</th>\n",
       "      <td>2022-02-21</td>\n",
       "      <td>2.830794e+06</td>\n",
       "      <td>eth</td>\n",
       "    </tr>\n",
       "    <tr>\n",
       "      <th>389</th>\n",
       "      <td>2022-02-28</td>\n",
       "      <td>2.936117e+06</td>\n",
       "      <td>eth</td>\n",
       "    </tr>\n",
       "    <tr>\n",
       "      <th>390</th>\n",
       "      <td>2022-03-07</td>\n",
       "      <td>3.009494e+06</td>\n",
       "      <td>eth</td>\n",
       "    </tr>\n",
       "    <tr>\n",
       "      <th>391</th>\n",
       "      <td>2022-03-11</td>\n",
       "      <td>2.971694e+06</td>\n",
       "      <td>eth</td>\n",
       "    </tr>\n",
       "  </tbody>\n",
       "</table>\n",
       "<p>1012 rows × 3 columns</p>\n",
       "</div>"
      ],
      "text/plain": [
       "           Date         Price crypto_name\n",
       "0    2017-11-06  1.562341e+00         ada\n",
       "1    2017-11-13  1.825773e+00         ada\n",
       "2    2017-11-20  2.349590e+00         ada\n",
       "3    2017-11-27  8.502870e+00         ada\n",
       "4    2017-12-04  7.109816e+00         ada\n",
       "..          ...           ...         ...\n",
       "387  2022-02-14  2.870256e+06         eth\n",
       "388  2022-02-21  2.830794e+06         eth\n",
       "389  2022-02-28  2.936117e+06         eth\n",
       "390  2022-03-07  3.009494e+06         eth\n",
       "391  2022-03-11  2.971694e+06         eth\n",
       "\n",
       "[1012 rows x 3 columns]"
      ]
     },
     "execution_count": 11,
     "metadata": {},
     "output_type": "execute_result"
    }
   ],
   "source": [
    "new_df"
   ]
  },
  {
   "cell_type": "markdown",
   "id": "afe769fc",
   "metadata": {
    "papermill": {
     "duration": 0.057049,
     "end_time": "2022-04-20T17:25:09.812260",
     "exception": false,
     "start_time": "2022-04-20T17:25:09.755211",
     "status": "completed"
    },
    "tags": []
   },
   "source": [
    "**Save the file and then remove the previous index**"
   ]
  },
  {
   "cell_type": "code",
   "execution_count": 12,
   "id": "d31ab00a",
   "metadata": {
    "execution": {
     "iopub.execute_input": "2022-04-20T17:25:09.931971Z",
     "iopub.status.busy": "2022-04-20T17:25:09.930967Z",
     "iopub.status.idle": "2022-04-20T17:25:09.942643Z",
     "shell.execute_reply": "2022-04-20T17:25:09.942066Z",
     "shell.execute_reply.started": "2022-04-20T17:17:45.054398Z"
    },
    "papermill": {
     "duration": 0.072743,
     "end_time": "2022-04-20T17:25:09.942785",
     "exception": false,
     "start_time": "2022-04-20T17:25:09.870042",
     "status": "completed"
    },
    "tags": []
   },
   "outputs": [],
   "source": [
    "## Save file\n",
    "new_df.to_csv('new_df.csv')"
   ]
  },
  {
   "cell_type": "code",
   "execution_count": 13,
   "id": "3f882def",
   "metadata": {
    "execution": {
     "iopub.execute_input": "2022-04-20T17:25:10.062258Z",
     "iopub.status.busy": "2022-04-20T17:25:10.061278Z",
     "iopub.status.idle": "2022-04-20T17:25:10.068074Z",
     "shell.execute_reply": "2022-04-20T17:25:10.068686Z",
     "shell.execute_reply.started": "2022-04-20T17:17:45.082528Z"
    },
    "papermill": {
     "duration": 0.067565,
     "end_time": "2022-04-20T17:25:10.068880",
     "exception": false,
     "start_time": "2022-04-20T17:25:10.001315",
     "status": "completed"
    },
    "tags": []
   },
   "outputs": [],
   "source": [
    "## Read the saved file\n",
    "new_df = pd.read_csv('new_df.csv')"
   ]
  },
  {
   "cell_type": "code",
   "execution_count": 14,
   "id": "749ae7dd",
   "metadata": {
    "execution": {
     "iopub.execute_input": "2022-04-20T17:25:10.188614Z",
     "iopub.status.busy": "2022-04-20T17:25:10.187585Z",
     "iopub.status.idle": "2022-04-20T17:25:10.194563Z",
     "shell.execute_reply": "2022-04-20T17:25:10.195107Z",
     "shell.execute_reply.started": "2022-04-20T17:17:45.095464Z"
    },
    "papermill": {
     "duration": 0.067684,
     "end_time": "2022-04-20T17:25:10.195304",
     "exception": false,
     "start_time": "2022-04-20T17:25:10.127620",
     "status": "completed"
    },
    "tags": []
   },
   "outputs": [],
   "source": [
    "## Drop the column \"Unnamed: 0\" (previous index) \n",
    "new_df.drop('Unnamed: 0',axis=1,inplace=True)"
   ]
  },
  {
   "cell_type": "code",
   "execution_count": 15,
   "id": "8a70e014",
   "metadata": {
    "execution": {
     "iopub.execute_input": "2022-04-20T17:25:10.316812Z",
     "iopub.status.busy": "2022-04-20T17:25:10.316134Z",
     "iopub.status.idle": "2022-04-20T17:25:10.328455Z",
     "shell.execute_reply": "2022-04-20T17:25:10.327922Z",
     "shell.execute_reply.started": "2022-04-20T17:17:45.109292Z"
    },
    "papermill": {
     "duration": 0.075429,
     "end_time": "2022-04-20T17:25:10.328609",
     "exception": false,
     "start_time": "2022-04-20T17:25:10.253180",
     "status": "completed"
    },
    "tags": []
   },
   "outputs": [
    {
     "data": {
      "text/html": [
       "<div>\n",
       "<style scoped>\n",
       "    .dataframe tbody tr th:only-of-type {\n",
       "        vertical-align: middle;\n",
       "    }\n",
       "\n",
       "    .dataframe tbody tr th {\n",
       "        vertical-align: top;\n",
       "    }\n",
       "\n",
       "    .dataframe thead th {\n",
       "        text-align: right;\n",
       "    }\n",
       "</style>\n",
       "<table border=\"1\" class=\"dataframe\">\n",
       "  <thead>\n",
       "    <tr style=\"text-align: right;\">\n",
       "      <th></th>\n",
       "      <th>Date</th>\n",
       "      <th>Price</th>\n",
       "      <th>crypto_name</th>\n",
       "    </tr>\n",
       "  </thead>\n",
       "  <tbody>\n",
       "    <tr>\n",
       "      <th>0</th>\n",
       "      <td>2017-11-06</td>\n",
       "      <td>1.562341e+00</td>\n",
       "      <td>ada</td>\n",
       "    </tr>\n",
       "    <tr>\n",
       "      <th>1</th>\n",
       "      <td>2017-11-13</td>\n",
       "      <td>1.825773e+00</td>\n",
       "      <td>ada</td>\n",
       "    </tr>\n",
       "    <tr>\n",
       "      <th>2</th>\n",
       "      <td>2017-11-20</td>\n",
       "      <td>2.349590e+00</td>\n",
       "      <td>ada</td>\n",
       "    </tr>\n",
       "    <tr>\n",
       "      <th>3</th>\n",
       "      <td>2017-11-27</td>\n",
       "      <td>8.502870e+00</td>\n",
       "      <td>ada</td>\n",
       "    </tr>\n",
       "    <tr>\n",
       "      <th>4</th>\n",
       "      <td>2017-12-04</td>\n",
       "      <td>7.109816e+00</td>\n",
       "      <td>ada</td>\n",
       "    </tr>\n",
       "    <tr>\n",
       "      <th>...</th>\n",
       "      <td>...</td>\n",
       "      <td>...</td>\n",
       "      <td>...</td>\n",
       "    </tr>\n",
       "    <tr>\n",
       "      <th>1007</th>\n",
       "      <td>2022-02-14</td>\n",
       "      <td>2.870256e+06</td>\n",
       "      <td>eth</td>\n",
       "    </tr>\n",
       "    <tr>\n",
       "      <th>1008</th>\n",
       "      <td>2022-02-21</td>\n",
       "      <td>2.830794e+06</td>\n",
       "      <td>eth</td>\n",
       "    </tr>\n",
       "    <tr>\n",
       "      <th>1009</th>\n",
       "      <td>2022-02-28</td>\n",
       "      <td>2.936117e+06</td>\n",
       "      <td>eth</td>\n",
       "    </tr>\n",
       "    <tr>\n",
       "      <th>1010</th>\n",
       "      <td>2022-03-07</td>\n",
       "      <td>3.009494e+06</td>\n",
       "      <td>eth</td>\n",
       "    </tr>\n",
       "    <tr>\n",
       "      <th>1011</th>\n",
       "      <td>2022-03-11</td>\n",
       "      <td>2.971694e+06</td>\n",
       "      <td>eth</td>\n",
       "    </tr>\n",
       "  </tbody>\n",
       "</table>\n",
       "<p>1012 rows × 3 columns</p>\n",
       "</div>"
      ],
      "text/plain": [
       "            Date         Price crypto_name\n",
       "0     2017-11-06  1.562341e+00         ada\n",
       "1     2017-11-13  1.825773e+00         ada\n",
       "2     2017-11-20  2.349590e+00         ada\n",
       "3     2017-11-27  8.502870e+00         ada\n",
       "4     2017-12-04  7.109816e+00         ada\n",
       "...          ...           ...         ...\n",
       "1007  2022-02-14  2.870256e+06         eth\n",
       "1008  2022-02-21  2.830794e+06         eth\n",
       "1009  2022-02-28  2.936117e+06         eth\n",
       "1010  2022-03-07  3.009494e+06         eth\n",
       "1011  2022-03-11  2.971694e+06         eth\n",
       "\n",
       "[1012 rows x 3 columns]"
      ]
     },
     "execution_count": 15,
     "metadata": {},
     "output_type": "execute_result"
    }
   ],
   "source": [
    "## View the dataset with proper index\n",
    "new_df"
   ]
  },
  {
   "cell_type": "markdown",
   "id": "a75708e5",
   "metadata": {
    "papermill": {
     "duration": 0.057662,
     "end_time": "2022-04-20T17:25:10.444528",
     "exception": false,
     "start_time": "2022-04-20T17:25:10.386866",
     "status": "completed"
    },
    "tags": []
   },
   "source": [
    "**Crypto with highest value**"
   ]
  },
  {
   "cell_type": "code",
   "execution_count": 16,
   "id": "2a37dc18",
   "metadata": {
    "execution": {
     "iopub.execute_input": "2022-04-20T17:25:10.567719Z",
     "iopub.status.busy": "2022-04-20T17:25:10.564035Z",
     "iopub.status.idle": "2022-04-20T17:25:10.575814Z",
     "shell.execute_reply": "2022-04-20T17:25:10.575300Z",
     "shell.execute_reply.started": "2022-04-20T17:17:45.140678Z"
    },
    "papermill": {
     "duration": 0.073124,
     "end_time": "2022-04-20T17:25:10.575966",
     "exception": false,
     "start_time": "2022-04-20T17:25:10.502842",
     "status": "completed"
    },
    "tags": []
   },
   "outputs": [
    {
     "data": {
      "text/html": [
       "<div>\n",
       "<style scoped>\n",
       "    .dataframe tbody tr th:only-of-type {\n",
       "        vertical-align: middle;\n",
       "    }\n",
       "\n",
       "    .dataframe tbody tr th {\n",
       "        vertical-align: top;\n",
       "    }\n",
       "\n",
       "    .dataframe thead th {\n",
       "        text-align: right;\n",
       "    }\n",
       "</style>\n",
       "<table border=\"1\" class=\"dataframe\">\n",
       "  <thead>\n",
       "    <tr style=\"text-align: right;\">\n",
       "      <th></th>\n",
       "      <th>Date</th>\n",
       "      <th>Price</th>\n",
       "      <th>crypto_name</th>\n",
       "    </tr>\n",
       "  </thead>\n",
       "  <tbody>\n",
       "    <tr>\n",
       "      <th>601</th>\n",
       "      <td>2021-11-08</td>\n",
       "      <td>4867364.0</td>\n",
       "      <td>btc</td>\n",
       "    </tr>\n",
       "    <tr>\n",
       "      <th>993</th>\n",
       "      <td>2021-11-08</td>\n",
       "      <td>4867364.0</td>\n",
       "      <td>eth</td>\n",
       "    </tr>\n",
       "  </tbody>\n",
       "</table>\n",
       "</div>"
      ],
      "text/plain": [
       "           Date      Price crypto_name\n",
       "601  2021-11-08  4867364.0         btc\n",
       "993  2021-11-08  4867364.0         eth"
      ]
     },
     "execution_count": 16,
     "metadata": {},
     "output_type": "execute_result"
    }
   ],
   "source": [
    "new_df[(new_df['Price']) == (new_df['Price'].max())]"
   ]
  },
  {
   "cell_type": "markdown",
   "id": "487e54ea",
   "metadata": {
    "papermill": {
     "duration": 0.058208,
     "end_time": "2022-04-20T17:25:10.692983",
     "exception": false,
     "start_time": "2022-04-20T17:25:10.634775",
     "status": "completed"
    },
    "tags": []
   },
   "source": [
    "**Crypto with lowest value**"
   ]
  },
  {
   "cell_type": "code",
   "execution_count": 17,
   "id": "92b14c6e",
   "metadata": {
    "execution": {
     "iopub.execute_input": "2022-04-20T17:25:10.813441Z",
     "iopub.status.busy": "2022-04-20T17:25:10.812783Z",
     "iopub.status.idle": "2022-04-20T17:25:10.824218Z",
     "shell.execute_reply": "2022-04-20T17:25:10.823706Z",
     "shell.execute_reply.started": "2022-04-20T17:17:45.157943Z"
    },
    "papermill": {
     "duration": 0.072944,
     "end_time": "2022-04-20T17:25:10.824377",
     "exception": false,
     "start_time": "2022-04-20T17:25:10.751433",
     "status": "completed"
    },
    "tags": []
   },
   "outputs": [
    {
     "data": {
      "text/html": [
       "<div>\n",
       "<style scoped>\n",
       "    .dataframe tbody tr th:only-of-type {\n",
       "        vertical-align: middle;\n",
       "    }\n",
       "\n",
       "    .dataframe tbody tr th {\n",
       "        vertical-align: top;\n",
       "    }\n",
       "\n",
       "    .dataframe thead th {\n",
       "        text-align: right;\n",
       "    }\n",
       "</style>\n",
       "<table border=\"1\" class=\"dataframe\">\n",
       "  <thead>\n",
       "    <tr style=\"text-align: right;\">\n",
       "      <th></th>\n",
       "      <th>Date</th>\n",
       "      <th>Price</th>\n",
       "      <th>crypto_name</th>\n",
       "    </tr>\n",
       "  </thead>\n",
       "  <tbody>\n",
       "    <tr>\n",
       "      <th>0</th>\n",
       "      <td>2017-11-06</td>\n",
       "      <td>1.562341</td>\n",
       "      <td>ada</td>\n",
       "    </tr>\n",
       "  </tbody>\n",
       "</table>\n",
       "</div>"
      ],
      "text/plain": [
       "         Date     Price crypto_name\n",
       "0  2017-11-06  1.562341         ada"
      ]
     },
     "execution_count": 17,
     "metadata": {},
     "output_type": "execute_result"
    }
   ],
   "source": [
    "new_df[(new_df['Price']) == (new_df['Price'].min())]"
   ]
  },
  {
   "cell_type": "markdown",
   "id": "e46229dc",
   "metadata": {
    "papermill": {
     "duration": 0.059202,
     "end_time": "2022-04-20T17:25:10.943278",
     "exception": false,
     "start_time": "2022-04-20T17:25:10.884076",
     "status": "completed"
    },
    "tags": []
   },
   "source": [
    "**Number of crypto prices present in each year**"
   ]
  },
  {
   "cell_type": "code",
   "execution_count": 18,
   "id": "2e5a887d",
   "metadata": {
    "execution": {
     "iopub.execute_input": "2022-04-20T17:25:11.070048Z",
     "iopub.status.busy": "2022-04-20T17:25:11.069341Z",
     "iopub.status.idle": "2022-04-20T17:25:11.075523Z",
     "shell.execute_reply": "2022-04-20T17:25:11.074927Z",
     "shell.execute_reply.started": "2022-04-20T17:17:45.179961Z"
    },
    "papermill": {
     "duration": 0.072208,
     "end_time": "2022-04-20T17:25:11.075663",
     "exception": false,
     "start_time": "2022-04-20T17:25:11.003455",
     "status": "completed"
    },
    "tags": []
   },
   "outputs": [
    {
     "data": {
      "text/plain": [
       "2018    159\n",
       "2019    156\n",
       "2020    156\n",
       "2021    156\n",
       "2017    112\n",
       "2015    104\n",
       "2016    104\n",
       "2022     33\n",
       "2014     32\n",
       "Name: Date, dtype: int64"
      ]
     },
     "execution_count": 18,
     "metadata": {},
     "output_type": "execute_result"
    }
   ],
   "source": [
    "pd.DatetimeIndex(new_df['Date']).year.value_counts()"
   ]
  },
  {
   "cell_type": "markdown",
   "id": "36100507",
   "metadata": {
    "papermill": {
     "duration": 0.058457,
     "end_time": "2022-04-20T17:25:11.193294",
     "exception": false,
     "start_time": "2022-04-20T17:25:11.134837",
     "status": "completed"
    },
    "tags": []
   },
   "source": [
    "**Different crypto entries in each year**"
   ]
  },
  {
   "cell_type": "code",
   "execution_count": 19,
   "id": "70e478be",
   "metadata": {
    "execution": {
     "iopub.execute_input": "2022-04-20T17:25:11.325739Z",
     "iopub.status.busy": "2022-04-20T17:25:11.318119Z",
     "iopub.status.idle": "2022-04-20T17:25:11.643692Z",
     "shell.execute_reply": "2022-04-20T17:25:11.644269Z",
     "shell.execute_reply.started": "2022-04-20T17:17:45.196625Z"
    },
    "papermill": {
     "duration": 0.392078,
     "end_time": "2022-04-20T17:25:11.644467",
     "exception": false,
     "start_time": "2022-04-20T17:25:11.252389",
     "status": "completed"
    },
    "tags": []
   },
   "outputs": [
    {
     "data": {
      "image/png": "[encoded data removed]",
      "text/plain": [
       "<Figure size 1080x288 with 1 Axes>"
      ]
     },
     "metadata": {
      "needs_background": "light"
     },
     "output_type": "display_data"
    }
   ],
   "source": [
    "plt.figure(figsize=(15,4))\n",
    "sns.countplot(x=pd.DatetimeIndex(new_df['Date']).year,hue='crypto_name',data=new_df)\n",
    "plt.show()"
   ]
  },
  {
   "cell_type": "markdown",
   "id": "7aaf6611",
   "metadata": {
    "papermill": {
     "duration": 0.060425,
     "end_time": "2022-04-20T17:25:11.765462",
     "exception": false,
     "start_time": "2022-04-20T17:25:11.705037",
     "status": "completed"
    },
    "tags": []
   },
   "source": [
    "**Creating a new dataframe for comparison on crypto_currencies**"
   ]
  },
  {
   "cell_type": "code",
   "execution_count": 20,
   "id": "6d3f84d6",
   "metadata": {
    "execution": {
     "iopub.execute_input": "2022-04-20T17:25:11.891016Z",
     "iopub.status.busy": "2022-04-20T17:25:11.890310Z",
     "iopub.status.idle": "2022-04-20T17:25:11.905308Z",
     "shell.execute_reply": "2022-04-20T17:25:11.906005Z",
     "shell.execute_reply.started": "2022-04-20T17:17:45.565873Z"
    },
    "papermill": {
     "duration": 0.079997,
     "end_time": "2022-04-20T17:25:11.906185",
     "exception": false,
     "start_time": "2022-04-20T17:25:11.826188",
     "status": "completed"
    },
    "tags": []
   },
   "outputs": [],
   "source": [
    "## Merging the dataframes\n",
    "df12 = ada.merge(btc, on='Date')"
   ]
  },
  {
   "cell_type": "code",
   "execution_count": 21,
   "id": "86f41bed",
   "metadata": {
    "execution": {
     "iopub.execute_input": "2022-04-20T17:25:12.032712Z",
     "iopub.status.busy": "2022-04-20T17:25:12.031984Z",
     "iopub.status.idle": "2022-04-20T17:25:12.040174Z",
     "shell.execute_reply": "2022-04-20T17:25:12.040741Z",
     "shell.execute_reply.started": "2022-04-20T17:17:45.586702Z"
    },
    "papermill": {
     "duration": 0.073708,
     "end_time": "2022-04-20T17:25:12.040926",
     "exception": false,
     "start_time": "2022-04-20T17:25:11.967218",
     "status": "completed"
    },
    "tags": []
   },
   "outputs": [],
   "source": [
    "df13 = df12.merge(eth, on='Date')"
   ]
  },
  {
   "cell_type": "code",
   "execution_count": 22,
   "id": "e49bc94d",
   "metadata": {
    "execution": {
     "iopub.execute_input": "2022-04-20T17:25:12.167611Z",
     "iopub.status.busy": "2022-04-20T17:25:12.166867Z",
     "iopub.status.idle": "2022-04-20T17:25:12.171951Z",
     "shell.execute_reply": "2022-04-20T17:25:12.172496Z",
     "shell.execute_reply.started": "2022-04-20T17:17:45.598389Z"
    },
    "papermill": {
     "duration": 0.069063,
     "end_time": "2022-04-20T17:25:12.172669",
     "exception": false,
     "start_time": "2022-04-20T17:25:12.103606",
     "status": "completed"
    },
    "tags": []
   },
   "outputs": [],
   "source": [
    "## Removing the crypto names\n",
    "df13.drop(['crypto_name_y','crypto_name','crypto_name_x'],axis=1,inplace=True)"
   ]
  },
  {
   "cell_type": "code",
   "execution_count": 23,
   "id": "657e0cef",
   "metadata": {
    "execution": {
     "iopub.execute_input": "2022-04-20T17:25:12.297432Z",
     "iopub.status.busy": "2022-04-20T17:25:12.296721Z",
     "iopub.status.idle": "2022-04-20T17:25:12.301105Z",
     "shell.execute_reply": "2022-04-20T17:25:12.301754Z",
     "shell.execute_reply.started": "2022-04-20T17:17:45.613170Z"
    },
    "papermill": {
     "duration": 0.068813,
     "end_time": "2022-04-20T17:25:12.301947",
     "exception": false,
     "start_time": "2022-04-20T17:25:12.233134",
     "status": "completed"
    },
    "tags": []
   },
   "outputs": [],
   "source": [
    "## Renamming the columns\n",
    "df13.rename(columns = {'Price_x':'ada','Price_y':'btc','Price':'eth'},inplace=True)"
   ]
  },
  {
   "cell_type": "code",
   "execution_count": 24,
   "id": "6bc944ea",
   "metadata": {
    "execution": {
     "iopub.execute_input": "2022-04-20T17:25:12.426124Z",
     "iopub.status.busy": "2022-04-20T17:25:12.425407Z",
     "iopub.status.idle": "2022-04-20T17:25:12.436576Z",
     "shell.execute_reply": "2022-04-20T17:25:12.437080Z",
     "shell.execute_reply.started": "2022-04-20T17:17:45.626869Z"
    },
    "papermill": {
     "duration": 0.074954,
     "end_time": "2022-04-20T17:25:12.437248",
     "exception": false,
     "start_time": "2022-04-20T17:25:12.362294",
     "status": "completed"
    },
    "tags": []
   },
   "outputs": [
    {
     "data": {
      "text/html": [
       "<div>\n",
       "<style scoped>\n",
       "    .dataframe tbody tr th:only-of-type {\n",
       "        vertical-align: middle;\n",
       "    }\n",
       "\n",
       "    .dataframe tbody tr th {\n",
       "        vertical-align: top;\n",
       "    }\n",
       "\n",
       "    .dataframe thead th {\n",
       "        text-align: right;\n",
       "    }\n",
       "</style>\n",
       "<table border=\"1\" class=\"dataframe\">\n",
       "  <thead>\n",
       "    <tr style=\"text-align: right;\">\n",
       "      <th></th>\n",
       "      <th>Date</th>\n",
       "      <th>ada</th>\n",
       "      <th>btc</th>\n",
       "      <th>eth</th>\n",
       "    </tr>\n",
       "  </thead>\n",
       "  <tbody>\n",
       "    <tr>\n",
       "      <th>0</th>\n",
       "      <td>2017-11-06</td>\n",
       "      <td>1.562341</td>\n",
       "      <td>387706.56</td>\n",
       "      <td>387706.56</td>\n",
       "    </tr>\n",
       "    <tr>\n",
       "      <th>1</th>\n",
       "      <td>2017-11-13</td>\n",
       "      <td>1.825773</td>\n",
       "      <td>522452.22</td>\n",
       "      <td>522452.22</td>\n",
       "    </tr>\n",
       "    <tr>\n",
       "      <th>2</th>\n",
       "      <td>2017-11-20</td>\n",
       "      <td>2.349590</td>\n",
       "      <td>603406.60</td>\n",
       "      <td>603406.60</td>\n",
       "    </tr>\n",
       "    <tr>\n",
       "      <th>3</th>\n",
       "      <td>2017-11-27</td>\n",
       "      <td>8.502870</td>\n",
       "      <td>730459.60</td>\n",
       "      <td>730459.60</td>\n",
       "    </tr>\n",
       "    <tr>\n",
       "      <th>4</th>\n",
       "      <td>2017-12-04</td>\n",
       "      <td>7.109816</td>\n",
       "      <td>996409.70</td>\n",
       "      <td>996409.70</td>\n",
       "    </tr>\n",
       "  </tbody>\n",
       "</table>\n",
       "</div>"
      ],
      "text/plain": [
       "         Date       ada        btc        eth\n",
       "0  2017-11-06  1.562341  387706.56  387706.56\n",
       "1  2017-11-13  1.825773  522452.22  522452.22\n",
       "2  2017-11-20  2.349590  603406.60  603406.60\n",
       "3  2017-11-27  8.502870  730459.60  730459.60\n",
       "4  2017-12-04  7.109816  996409.70  996409.70"
      ]
     },
     "execution_count": 24,
     "metadata": {},
     "output_type": "execute_result"
    }
   ],
   "source": [
    "## Viewing the updated dataset\n",
    "df13.head()"
   ]
  },
  {
   "cell_type": "markdown",
   "id": "d879c24e",
   "metadata": {
    "papermill": {
     "duration": 0.06137,
     "end_time": "2022-04-20T17:25:12.559441",
     "exception": false,
     "start_time": "2022-04-20T17:25:12.498071",
     "status": "completed"
    },
    "tags": []
   },
   "source": [
    "**Cumulative returns of the largest crypto-currency**"
   ]
  },
  {
   "cell_type": "code",
   "execution_count": 25,
   "id": "4fee48c4",
   "metadata": {
    "execution": {
     "iopub.execute_input": "2022-04-20T17:25:12.691880Z",
     "iopub.status.busy": "2022-04-20T17:25:12.691168Z",
     "iopub.status.idle": "2022-04-20T17:25:12.694087Z",
     "shell.execute_reply": "2022-04-20T17:25:12.693583Z",
     "shell.execute_reply.started": "2022-04-20T17:17:45.653330Z"
    },
    "papermill": {
     "duration": 0.072819,
     "end_time": "2022-04-20T17:25:12.694233",
     "exception": false,
     "start_time": "2022-04-20T17:25:12.621414",
     "status": "completed"
    },
    "tags": []
   },
   "outputs": [],
   "source": [
    "df13pct = df13[['ada','btc','eth']].pct_change()"
   ]
  },
  {
   "cell_type": "code",
   "execution_count": 26,
   "id": "8e660ede",
   "metadata": {
    "execution": {
     "iopub.execute_input": "2022-04-20T17:25:12.824959Z",
     "iopub.status.busy": "2022-04-20T17:25:12.824210Z",
     "iopub.status.idle": "2022-04-20T17:25:12.828953Z",
     "shell.execute_reply": "2022-04-20T17:25:12.829685Z",
     "shell.execute_reply.started": "2022-04-20T17:17:45.667320Z"
    },
    "papermill": {
     "duration": 0.074583,
     "end_time": "2022-04-20T17:25:12.830060",
     "exception": false,
     "start_time": "2022-04-20T17:25:12.755477",
     "status": "completed"
    },
    "tags": []
   },
   "outputs": [],
   "source": [
    "df13_cum_returns = (df13pct + 1).cumprod() - 1"
   ]
  },
  {
   "cell_type": "code",
   "execution_count": 27,
   "id": "59c2e900",
   "metadata": {
    "execution": {
     "iopub.execute_input": "2022-04-20T17:25:12.965120Z",
     "iopub.status.busy": "2022-04-20T17:25:12.964374Z",
     "iopub.status.idle": "2022-04-20T17:25:12.967705Z",
     "shell.execute_reply": "2022-04-20T17:25:12.968190Z",
     "shell.execute_reply.started": "2022-04-20T17:17:45.677833Z"
    },
    "papermill": {
     "duration": 0.075613,
     "end_time": "2022-04-20T17:25:12.968393",
     "exception": false,
     "start_time": "2022-04-20T17:25:12.892780",
     "status": "completed"
    },
    "tags": []
   },
   "outputs": [
    {
     "data": {
      "text/html": [
       "<div>\n",
       "<style scoped>\n",
       "    .dataframe tbody tr th:only-of-type {\n",
       "        vertical-align: middle;\n",
       "    }\n",
       "\n",
       "    .dataframe tbody tr th {\n",
       "        vertical-align: top;\n",
       "    }\n",
       "\n",
       "    .dataframe thead th {\n",
       "        text-align: right;\n",
       "    }\n",
       "</style>\n",
       "<table border=\"1\" class=\"dataframe\">\n",
       "  <thead>\n",
       "    <tr style=\"text-align: right;\">\n",
       "      <th></th>\n",
       "      <th>ada</th>\n",
       "      <th>btc</th>\n",
       "      <th>eth</th>\n",
       "    </tr>\n",
       "  </thead>\n",
       "  <tbody>\n",
       "    <tr>\n",
       "      <th>0</th>\n",
       "      <td>NaN</td>\n",
       "      <td>NaN</td>\n",
       "      <td>NaN</td>\n",
       "    </tr>\n",
       "    <tr>\n",
       "      <th>1</th>\n",
       "      <td>0.168614</td>\n",
       "      <td>0.347545</td>\n",
       "      <td>0.347545</td>\n",
       "    </tr>\n",
       "    <tr>\n",
       "      <th>2</th>\n",
       "      <td>0.503891</td>\n",
       "      <td>0.556349</td>\n",
       "      <td>0.556349</td>\n",
       "    </tr>\n",
       "    <tr>\n",
       "      <th>3</th>\n",
       "      <td>4.442391</td>\n",
       "      <td>0.884053</td>\n",
       "      <td>0.884053</td>\n",
       "    </tr>\n",
       "    <tr>\n",
       "      <th>4</th>\n",
       "      <td>3.550745</td>\n",
       "      <td>1.570010</td>\n",
       "      <td>1.570010</td>\n",
       "    </tr>\n",
       "  </tbody>\n",
       "</table>\n",
       "</div>"
      ],
      "text/plain": [
       "        ada       btc       eth\n",
       "0       NaN       NaN       NaN\n",
       "1  0.168614  0.347545  0.347545\n",
       "2  0.503891  0.556349  0.556349\n",
       "3  4.442391  0.884053  0.884053\n",
       "4  3.550745  1.570010  1.570010"
      ]
     },
     "execution_count": 27,
     "metadata": {},
     "output_type": "execute_result"
    }
   ],
   "source": [
    "df13_cum_returns.head()"
   ]
  },
  {
   "cell_type": "code",
   "execution_count": 28,
   "id": "ac9de11b",
   "metadata": {
    "execution": {
     "iopub.execute_input": "2022-04-20T17:25:13.097776Z",
     "iopub.status.busy": "2022-04-20T17:25:13.096742Z",
     "iopub.status.idle": "2022-04-20T17:25:13.347147Z",
     "shell.execute_reply": "2022-04-20T17:25:13.346611Z",
     "shell.execute_reply.started": "2022-04-20T17:17:45.703932Z"
    },
    "papermill": {
     "duration": 0.315998,
     "end_time": "2022-04-20T17:25:13.347292",
     "exception": false,
     "start_time": "2022-04-20T17:25:13.031294",
     "status": "completed"
    },
    "tags": []
   },
   "outputs": [
    {
     "data": {
      "image/png": "[encoded data removed]",
      "text/plain": [
       "<Figure size 1080x360 with 1 Axes>"
      ]
     },
     "metadata": {
      "needs_background": "light"
     },
     "output_type": "display_data"
    }
   ],
   "source": [
    "df13_cum_returns.plot(figsize=(15,5))\n",
    "plt.title('Cumulative Returns of the largest crypto-currencies')\n",
    "plt.show()"
   ]
  },
  {
   "cell_type": "markdown",
   "id": "03871398",
   "metadata": {
    "papermill": {
     "duration": 0.063333,
     "end_time": "2022-04-20T17:25:13.474033",
     "exception": false,
     "start_time": "2022-04-20T17:25:13.410700",
     "status": "completed"
    },
    "tags": []
   },
   "source": [
    "**Plotting date vs price for all the crypto-currencies**"
   ]
  },
  {
   "cell_type": "code",
   "execution_count": 29,
   "id": "81a0983e",
   "metadata": {
    "execution": {
     "iopub.execute_input": "2022-04-20T17:25:13.603653Z",
     "iopub.status.busy": "2022-04-20T17:25:13.602991Z",
     "iopub.status.idle": "2022-04-20T17:25:15.766542Z",
     "shell.execute_reply": "2022-04-20T17:25:15.767069Z",
     "shell.execute_reply.started": "2022-04-20T17:17:45.980507Z"
    },
    "papermill": {
     "duration": 2.229917,
     "end_time": "2022-04-20T17:25:15.767238",
     "exception": false,
     "start_time": "2022-04-20T17:25:13.537321",
     "status": "completed"
    },
    "tags": []
   },
   "outputs": [
    {
     "data": {
      "image/png": "[encoded data removed]",
      "text/plain": [
       "<Figure size 1080x720 with 3 Axes>"
      ]
     },
     "metadata": {
      "needs_background": "light"
     },
     "output_type": "display_data"
    }
   ],
   "source": [
    "plt.figure(figsize=(15,10))\n",
    "\n",
    "plt.subplot(3, 1, 1 )\n",
    "plt.title('ada')\n",
    "sns.lineplot(x='Date', y='Price', data = ada, color= 'r')\n",
    "plt.xticks(ticks=[0,27.5,55,82.5,110,137.5,165,192.5,220],rotation=45)\n",
    "\n",
    "plt.subplot(3,1,2)\n",
    "plt.title('btc')\n",
    "sns.lineplot(x='Date', y='Price', data= btc, color= 'b')\n",
    "plt.xticks(ticks=[0,48.75,97.5,146.5,195,247.5,300,345,390],rotation=45)\n",
    "\n",
    "\n",
    "plt.subplot(3,1,3)\n",
    "plt.title('eth')\n",
    "sns.lineplot(x='Date', y='Price', data= eth, color= 'g')\n",
    "plt.xticks(ticks=[0,48.75,97.5,146.5,195,247.5,300,345,390],rotation=45)\n",
    "\n",
    "\n",
    "plt.tight_layout()\n",
    "plt.savefig('individual_plots_data_vs_price')"
   ]
  },
  {
   "cell_type": "markdown",
   "id": "15fa2a2a",
   "metadata": {
    "papermill": {
     "duration": 0.075944,
     "end_time": "2022-04-20T17:25:15.915215",
     "exception": false,
     "start_time": "2022-04-20T17:25:15.839271",
     "status": "completed"
    },
    "tags": []
   },
   "source": [
    "### Predictions\n",
    "The following set of code predicts the price of bitcoin, ada and etherium for the coming set of days\n"
   ]
  },
  {
   "cell_type": "markdown",
   "id": "62f6878f",
   "metadata": {
    "papermill": {
     "duration": 0.066184,
     "end_time": "2022-04-20T17:25:16.051085",
     "exception": false,
     "start_time": "2022-04-20T17:25:15.984901",
     "status": "completed"
    },
    "tags": []
   },
   "source": [
    "**Creating new dataframes with only Price columns**"
   ]
  },
  {
   "cell_type": "code",
   "execution_count": 30,
   "id": "78f033da",
   "metadata": {
    "execution": {
     "iopub.execute_input": "2022-04-20T17:25:16.187376Z",
     "iopub.status.busy": "2022-04-20T17:25:16.186664Z",
     "iopub.status.idle": "2022-04-20T17:25:16.255179Z",
     "shell.execute_reply": "2022-04-20T17:25:16.254576Z",
     "shell.execute_reply.started": "2022-04-20T17:18:09.488798Z"
    },
    "papermill": {
     "duration": 0.138752,
     "end_time": "2022-04-20T17:25:16.255321",
     "exception": false,
     "start_time": "2022-04-20T17:25:16.116569",
     "status": "completed"
    },
    "tags": []
   },
   "outputs": [],
   "source": [
    "ada1 = pd.read_csv('../input/cryptocurrencypricehistory/coin_Aave.csv')\n",
    "btc1 = pd.read_csv('../input/cryptocurrencypricehistory/coin_Bitcoin.csv')\n",
    "eth1 = pd.read_csv('../input/cryptocurrencypricehistory/coin_Ethereum.csv')"
   ]
  },
  {
   "cell_type": "code",
   "execution_count": 31,
   "id": "5486a089",
   "metadata": {
    "execution": {
     "iopub.execute_input": "2022-04-20T17:25:16.397727Z",
     "iopub.status.busy": "2022-04-20T17:25:16.397056Z",
     "iopub.status.idle": "2022-04-20T17:25:16.401769Z",
     "shell.execute_reply": "2022-04-20T17:25:16.402249Z",
     "shell.execute_reply.started": "2022-04-20T17:18:09.560477Z"
    },
    "papermill": {
     "duration": 0.079462,
     "end_time": "2022-04-20T17:25:16.402450",
     "exception": false,
     "start_time": "2022-04-20T17:25:16.322988",
     "status": "completed"
    },
    "tags": []
   },
   "outputs": [],
   "source": [
    "ada1 = ada1[['Date','Close']]\n",
    "eth1 = eth1[['Date','Close']]\n",
    "btc1 = btc1[['Date','Close']]"
   ]
  },
  {
   "cell_type": "code",
   "execution_count": 32,
   "id": "b3919c47",
   "metadata": {
    "execution": {
     "iopub.execute_input": "2022-04-20T17:25:16.549196Z",
     "iopub.status.busy": "2022-04-20T17:25:16.538717Z",
     "iopub.status.idle": "2022-04-20T17:25:16.552017Z",
     "shell.execute_reply": "2022-04-20T17:25:16.551491Z",
     "shell.execute_reply.started": "2022-04-20T17:18:09.573737Z"
    },
    "papermill": {
     "duration": 0.083958,
     "end_time": "2022-04-20T17:25:16.552167",
     "exception": false,
     "start_time": "2022-04-20T17:25:16.468209",
     "status": "completed"
    },
    "tags": []
   },
   "outputs": [],
   "source": [
    "ada1['Date'] = pd.DatetimeIndex(ada1['Date']).date\n",
    "eth1['Date'] = pd.DatetimeIndex(eth1['Date']).date\n",
    "btc1['Date'] = pd.DatetimeIndex(btc1['Date']).date"
   ]
  },
  {
   "cell_type": "code",
   "execution_count": 33,
   "id": "fe3025ed",
   "metadata": {
    "execution": {
     "iopub.execute_input": "2022-04-20T17:25:16.691730Z",
     "iopub.status.busy": "2022-04-20T17:25:16.690586Z",
     "iopub.status.idle": "2022-04-20T17:25:16.693490Z",
     "shell.execute_reply": "2022-04-20T17:25:16.692833Z",
     "shell.execute_reply.started": "2022-04-20T17:18:09.599729Z"
    },
    "papermill": {
     "duration": 0.075734,
     "end_time": "2022-04-20T17:25:16.693635",
     "exception": false,
     "start_time": "2022-04-20T17:25:16.617901",
     "status": "completed"
    },
    "tags": []
   },
   "outputs": [],
   "source": [
    "ada1.rename(columns = {'Close':'Price'}, inplace = True)\n",
    "eth1.rename(columns = {'Close':'Price'}, inplace = True)\n",
    "btc1.rename(columns = {'Close':'Price'}, inplace = True)"
   ]
  },
  {
   "cell_type": "code",
   "execution_count": 34,
   "id": "6c1541ea",
   "metadata": {
    "execution": {
     "iopub.execute_input": "2022-04-20T17:25:16.831584Z",
     "iopub.status.busy": "2022-04-20T17:25:16.830952Z",
     "iopub.status.idle": "2022-04-20T17:25:16.836896Z",
     "shell.execute_reply": "2022-04-20T17:25:16.837429Z",
     "shell.execute_reply.started": "2022-04-20T17:18:09.609288Z"
    },
    "papermill": {
     "duration": 0.07765,
     "end_time": "2022-04-20T17:25:16.837603",
     "exception": false,
     "start_time": "2022-04-20T17:25:16.759953",
     "status": "completed"
    },
    "tags": []
   },
   "outputs": [],
   "source": [
    "new_btc = pd.DataFrame(btc1['Price'])\n",
    "new_eth = pd.DataFrame(eth1['Price'])\n",
    "new_ada = pd.DataFrame(ada1['Price'])"
   ]
  },
  {
   "cell_type": "code",
   "execution_count": 35,
   "id": "b02cd772",
   "metadata": {
    "execution": {
     "iopub.execute_input": "2022-04-20T17:25:16.978950Z",
     "iopub.status.busy": "2022-04-20T17:25:16.978168Z",
     "iopub.status.idle": "2022-04-20T17:25:16.983619Z",
     "shell.execute_reply": "2022-04-20T17:25:16.983036Z",
     "shell.execute_reply.started": "2022-04-20T17:18:09.628720Z"
    },
    "papermill": {
     "duration": 0.079551,
     "end_time": "2022-04-20T17:25:16.983787",
     "exception": false,
     "start_time": "2022-04-20T17:25:16.904236",
     "status": "completed"
    },
    "tags": []
   },
   "outputs": [],
   "source": [
    "#A variable for predicting 'n' days into the future \n",
    "prediction_days = 30\n",
    "# another column for shifted n units up\n",
    "new_ada['Prediction'] = new_ada['Price'].shift(-prediction_days)\n",
    "new_btc['Prediction'] = new_btc['Price'].shift(-prediction_days)\n",
    "new_eth['Prediction'] = new_eth['Price'].shift(-prediction_days)"
   ]
  },
  {
   "cell_type": "code",
   "execution_count": 36,
   "id": "75c88a6a",
   "metadata": {
    "execution": {
     "iopub.execute_input": "2022-04-20T17:25:17.125668Z",
     "iopub.status.busy": "2022-04-20T17:25:17.124982Z",
     "iopub.status.idle": "2022-04-20T17:25:17.131656Z",
     "shell.execute_reply": "2022-04-20T17:25:17.131110Z",
     "shell.execute_reply.started": "2022-04-20T17:18:09.646541Z"
    },
    "papermill": {
     "duration": 0.080891,
     "end_time": "2022-04-20T17:25:17.131841",
     "exception": false,
     "start_time": "2022-04-20T17:25:17.050950",
     "status": "completed"
    },
    "tags": []
   },
   "outputs": [],
   "source": [
    "# Create independent data set\n",
    "# Convert the dataframe to a numpy array and drop prediction column\n",
    "X1 = np.array(new_ada.drop(['Prediction'], 1))\n",
    "X2 = np.array(new_eth.drop(['Prediction'], 1))\n",
    "X3 = np.array(new_btc.drop(['Prediction'], 1))\n",
    "# Remove the last n rows where n is the prediction_days\n",
    "X1 = X1[:len(new_ada)-prediction_days]\n",
    "X2 = X2[:len(new_eth)-prediction_days]\n",
    "X3 = X3[:len(new_btc)-prediction_days]"
   ]
  },
  {
   "cell_type": "code",
   "execution_count": 37,
   "id": "26a4849c",
   "metadata": {
    "execution": {
     "iopub.execute_input": "2022-04-20T17:25:17.271241Z",
     "iopub.status.busy": "2022-04-20T17:25:17.270523Z",
     "iopub.status.idle": "2022-04-20T17:25:17.272949Z",
     "shell.execute_reply": "2022-04-20T17:25:17.273556Z",
     "shell.execute_reply.started": "2022-04-20T17:18:09.670243Z"
    },
    "papermill": {
     "duration": 0.075179,
     "end_time": "2022-04-20T17:25:17.273727",
     "exception": false,
     "start_time": "2022-04-20T17:25:17.198548",
     "status": "completed"
    },
    "tags": []
   },
   "outputs": [],
   "source": [
    "# Create a depedent data set\n",
    "# Convert the dataframe to a numpy array and drop prediction column\n",
    "y1 = np.array(new_ada['Prediction'])\n",
    "y1 = y1[: -prediction_days]\n",
    "\n",
    "y2 = np.array(new_eth['Prediction'])\n",
    "y2 = y2[: -prediction_days]\n",
    "\n",
    "y3 = np.array(new_btc['Prediction'])\n",
    "y3 = y3[: -prediction_days]"
   ]
  },
  {
   "cell_type": "code",
   "execution_count": 38,
   "id": "1880c607",
   "metadata": {
    "execution": {
     "iopub.execute_input": "2022-04-20T17:25:17.408488Z",
     "iopub.status.busy": "2022-04-20T17:25:17.407812Z",
     "iopub.status.idle": "2022-04-20T17:25:17.599405Z",
     "shell.execute_reply": "2022-04-20T17:25:17.598677Z",
     "shell.execute_reply.started": "2022-04-20T17:18:09.687056Z"
    },
    "papermill": {
     "duration": 0.260086,
     "end_time": "2022-04-20T17:25:17.599582",
     "exception": false,
     "start_time": "2022-04-20T17:25:17.339496",
     "status": "completed"
    },
    "tags": []
   },
   "outputs": [],
   "source": [
    "# Split data into training and testing data\n",
    "from sklearn.model_selection import train_test_split\n",
    "# for ada\n",
    "X1_train, X1_test, y1_train, y1_test =train_test_split(X1,y1,test_size=0.2)\n",
    "\n",
    "# for eth\n",
    "X2_train, X2_test, y2_train, y2_test =train_test_split(X2,y2,test_size=0.2)\n",
    "\n",
    "# for btc\n",
    "X3_train, X3_test, y3_train, y3_test =train_test_split(X3,y3,test_size=0.2)"
   ]
  },
  {
   "cell_type": "code",
   "execution_count": 39,
   "id": "615fce0f",
   "metadata": {
    "execution": {
     "iopub.execute_input": "2022-04-20T17:25:17.741809Z",
     "iopub.status.busy": "2022-04-20T17:25:17.740897Z",
     "iopub.status.idle": "2022-04-20T17:25:17.743737Z",
     "shell.execute_reply": "2022-04-20T17:25:17.743180Z",
     "shell.execute_reply.started": "2022-04-20T17:18:09.934774Z"
    },
    "papermill": {
     "duration": 0.077499,
     "end_time": "2022-04-20T17:25:17.743877",
     "exception": false,
     "start_time": "2022-04-20T17:25:17.666378",
     "status": "completed"
    },
    "tags": []
   },
   "outputs": [],
   "source": [
    "# Set the prediction days array equal to last 30 days from the original data\n",
    "# for ada\n",
    "prediction_days_array1 = (new_ada.drop(['Prediction'],1))[-prediction_days:]\n",
    "\n",
    "# for eth\n",
    "prediction_days_array2 = (new_eth.drop(['Prediction'],1))[-prediction_days:]\n",
    "\n",
    "# btc\n",
    "prediction_days_array3 = (new_btc.drop(['Prediction'],1))[-prediction_days:]"
   ]
  },
  {
   "cell_type": "code",
   "execution_count": 40,
   "id": "6dbcfd48",
   "metadata": {
    "execution": {
     "iopub.execute_input": "2022-04-20T17:25:17.883966Z",
     "iopub.status.busy": "2022-04-20T17:25:17.883202Z",
     "iopub.status.idle": "2022-04-20T17:25:18.598731Z",
     "shell.execute_reply": "2022-04-20T17:25:18.598146Z",
     "shell.execute_reply.started": "2022-04-20T17:18:09.945568Z"
    },
    "papermill": {
     "duration": 0.788696,
     "end_time": "2022-04-20T17:25:18.598872",
     "exception": false,
     "start_time": "2022-04-20T17:25:17.810176",
     "status": "completed"
    },
    "tags": []
   },
   "outputs": [
    {
     "data": {
      "text/plain": [
       "SVR(C=1000.0, gamma=1e-05)"
      ]
     },
     "execution_count": 40,
     "metadata": {},
     "output_type": "execute_result"
    }
   ],
   "source": [
    "from sklearn.svm import SVR\n",
    "# Create and train the Support Vector Machine (Regression) using radial basis function\n",
    "svr_rbf = SVR(kernel='rbf', C=1e3, gamma=0.00001)\n",
    "# for ada\n",
    "svr_rbf.fit(X1_train, y1_train)\n",
    "# for eth\n",
    "svr_rbf.fit(X2_train, y2_train)\n",
    "# btc\n",
    "svr_rbf.fit(X3_train, y3_train)"
   ]
  },
  {
   "cell_type": "code",
   "execution_count": 41,
   "id": "6d2699bc",
   "metadata": {
    "execution": {
     "iopub.execute_input": "2022-04-20T17:25:18.736323Z",
     "iopub.status.busy": "2022-04-20T17:25:18.735313Z",
     "iopub.status.idle": "2022-04-20T17:25:18.884147Z",
     "shell.execute_reply": "2022-04-20T17:25:18.884677Z",
     "shell.execute_reply.started": "2022-04-20T17:18:10.734936Z"
    },
    "papermill": {
     "duration": 0.219349,
     "end_time": "2022-04-20T17:25:18.884859",
     "exception": false,
     "start_time": "2022-04-20T17:25:18.665510",
     "status": "completed"
    },
    "tags": []
   },
   "outputs": [
    {
     "name": "stdout",
     "output_type": "stream",
     "text": [
      "svr_rbf accuracy for ada -0.6952963459153516\n",
      "svr_rbf accuracy for eth  0.3096779994772756\n",
      "svr_rbf accuracy for ada 0.5174910407708805\n"
     ]
    }
   ],
   "source": [
    "# Test the model\n",
    "# for ada\n",
    "svr_rbf_confidence1 = svr_rbf.score(X1_test, y1_test)\n",
    "print('svr_rbf accuracy for ada',svr_rbf_confidence1 )\n",
    "# for eth\n",
    "svr_rbf_confidence2 = svr_rbf.score(X2_test, y2_test)\n",
    "print('svr_rbf accuracy for eth ',svr_rbf_confidence2 )\n",
    "# for btc\n",
    "svr_rbf_confidence3 = svr_rbf.score(X3_test, y3_test)\n",
    "print('svr_rbf accuracy for ada',svr_rbf_confidence3 )"
   ]
  },
  {
   "cell_type": "code",
   "execution_count": 42,
   "id": "7de23d2e",
   "metadata": {
    "execution": {
     "iopub.execute_input": "2022-04-20T17:25:19.024002Z",
     "iopub.status.busy": "2022-04-20T17:25:19.023202Z",
     "iopub.status.idle": "2022-04-20T17:25:19.203596Z",
     "shell.execute_reply": "2022-04-20T17:25:19.204101Z",
     "shell.execute_reply.started": "2022-04-20T17:18:10.916945Z"
    },
    "papermill": {
     "duration": 0.251499,
     "end_time": "2022-04-20T17:25:19.204304",
     "exception": false,
     "start_time": "2022-04-20T17:25:18.952805",
     "status": "completed"
    },
    "tags": []
   },
   "outputs": [
    {
     "name": "stdout",
     "output_type": "stream",
     "text": [
      "[444.36104217 114.31830178 535.13022413 389.35180017 417.99503722\n",
      " 390.37536984 360.12281384 231.65900625 170.80821571 452.64392058\n",
      " 131.47542384 210.303048   447.09381    461.85646084 353.44676726\n",
      " 393.22329115 387.67324626 246.05503986 357.84609562 396.99281287\n",
      " 543.82651284 182.58700825 222.25135248 401.7017242  230.07148272\n",
      " 246.41019361 397.3980807  193.61841887 443.05847087 449.83019874\n",
      " 174.45701319 357.17735787 565.23066361 429.49443295 383.12086544\n",
      " 406.44912584 356.16906837 459.59810647 231.65915122 167.07393636\n",
      " 201.10770138 358.44956497 456.05854918 473.45455211 436.08825757\n",
      " 377.7322935  390.44596386 376.60541391 511.88008389]\n",
      "[369.97811139 518.07254013 381.08260484 367.12553589 383.98994248\n",
      " 404.30973507 236.76587081  87.5274822  115.00081244 369.37732538\n",
      " 471.6146565  264.85014401  68.42477869 331.01690893  79.94619074\n",
      " 210.85982427 430.1746817   75.21556665 345.65529566 444.72879905\n",
      "  68.85312443 147.2622138  272.3576004  452.40875669 188.27962871\n",
      "  87.23005839 503.86568384 159.99185659 297.89964198  71.76639355\n",
      " 186.2648519   27.71508436  63.94728703 370.15155996  67.00111098\n",
      " 377.61179926 202.67640068 310.14837954 249.74367963 440.5109236\n",
      " 111.70277995 346.18989982 397.49794841 371.21927385 594.55687732\n",
      " 405.15672313 355.60626394 371.38023972 278.51403806]\n",
      "[ 783.37409571  730.93679674  465.36203641  183.16580137  326.40387421\n",
      " 4060.84961223  114.19799934  208.14092701  811.84725784  467.79825681\n",
      "  433.72341462 4023.46958432  756.77384457  239.76708885  235.75788409\n",
      " 3350.13262361  736.08801398  772.19714077  228.11659203  132.49083809\n",
      "  294.56624452  795.90044657  404.8820837   144.50102126  113.45602625\n",
      "  502.25517104  357.62245987  791.85269153  389.34617837  515.13950645\n",
      "  890.15643895  167.84038328  404.16331994  409.90485421  752.75861812\n",
      "  434.43314806  892.65856694  393.42010003  183.57622689  113.56034909\n",
      "  479.30739364  904.87971686  124.85841289  241.0280435   352.15511128\n",
      "  766.06413542  716.80521599  115.15409799 2749.55935355  189.47013487\n",
      "  329.32746312  208.02460442  812.61435737  328.3775726  2399.65638848\n",
      "  772.08810267  748.46197586  263.47196173  301.35684879  189.39176686\n",
      "  912.62488136  909.93805535  398.73967384  219.62286915  115.398199\n",
      "  910.88127022  183.98690577  245.36695739  618.04943374  404.25836151\n",
      "  203.74832879  763.25590809  116.5293659   906.61452278  693.36998847\n",
      "  560.44121348 1855.50042529  910.93552759  911.19111157  400.7818824\n",
      "  731.69534849  195.78469072  345.93839075  154.39953621  889.35795684\n",
      "  267.52167568  482.20068683  332.53887888  859.04249926  603.3131347\n",
      "  146.92067298  123.69107492  417.63182542  923.00837993  307.81667368\n",
      "  299.58052479  113.2595524  4098.37928626  915.5419414  3877.7899231\n",
      "  781.47843433  690.93689926 2657.54998182  132.02267968  911.45748398\n",
      " 1045.67825297  192.34386374  779.51401486  761.28020048  749.59610557\n",
      "  323.83574954  771.49050956  209.79112027  909.044429    171.75111646\n",
      "  332.92672573  251.03303882  256.73171128  122.66551911  474.72632406\n",
      " 1112.76477615  328.23170643  379.25181274  909.89212772  125.64871709\n",
      "  342.32420087 4135.8314907   766.07433117  770.84198823  815.45402192\n",
      "  457.31656934  378.26735172  772.52046421  767.17589232  320.33133063\n",
      "  120.66377565  628.25085772  529.50748479  112.9749251   333.15395492\n",
      "  144.38288321  737.96692104  147.10271978  391.72222484  784.79464462\n",
      "  355.48065595 1925.46760126  338.7137059   401.18775598  301.38888292\n",
      "  777.43831402  151.14436498  114.6736631   123.2059651   308.90057195\n",
      "  255.86422098  381.04982301  290.47787571  787.02843688  731.17264021\n",
      "  200.61186084  387.34201614  290.61898296  425.16540778  250.39891396\n",
      "  340.3783897   135.96813655  795.3760544  3174.78439984  402.52381353\n",
      "  750.55280679  119.62115562  434.58994952  390.02536052  333.43970052\n",
      "  144.95181202  439.08781397  719.16275518  773.57705807  467.83302039\n",
      "  818.73459742  161.29516641 1829.05068589  114.55257404  137.63123252\n",
      "  325.83632542  243.44169869  350.90609322  370.65613852  392.45168675\n",
      "  113.16861959  759.07730095  438.95375163 2797.81729124  473.47009054\n",
      "  241.96948674  133.60976225  787.34954463  377.04239716  544.03429202\n",
      "  219.93637633  783.60825107  130.48690457  338.74279443  403.27018404\n",
      "  767.38917868  911.30701811 3217.17072403  783.40520091  203.47618616\n",
      "  914.37833017  113.50510165  407.32401904  752.98171854  183.68549632\n",
      "  369.8486095   389.33244269  805.41961807  188.01275949  114.24142259\n",
      "  918.05831415  300.80309132  401.956045    779.59408561 2894.56693321\n",
      "  785.59536627  113.19641583 2741.58972417  343.65289064  622.27281257\n",
      "  777.81084977  116.68467916  909.81324361  331.39190295  417.3091205\n",
      "  117.20784878  439.40744506  413.88196406  476.72209014  770.46535511\n",
      "  112.89845601  745.1155987   758.24476455  904.26965895  378.00707191\n",
      "  672.36894253  705.81310653  935.93552273  331.97481785  776.45018038\n",
      " 2367.80862958  910.26997707  375.38435356  304.45883812  220.96276379\n",
      "  418.06824241  833.74138397 2921.35508006 2776.55114543  732.60117058\n",
      "  761.81382443  417.0577767   112.91678843  244.23130421  862.52390742\n",
      " 1158.23125239  625.47780461 2960.41591736  781.92460877  120.38991363\n",
      "  336.40826446  810.14427612  912.48153068  751.62367221  113.48141762\n",
      "  798.00673964  129.48829443  124.79329392  863.20262141  127.31740154\n",
      " 2855.24100339  228.01847465  769.40787843  662.96333232  247.79387477\n",
      " 1405.91239981  803.73907942  704.02434182  902.75670448  207.98931048\n",
      "  756.73778916  809.98159022  464.55555676 2747.35558135 4017.22797548\n",
      "  781.14993042  323.15145786  113.37860409  747.08957521  223.27184951\n",
      "  913.6816032   233.83089003  384.93910498  772.82591138 4933.83669583\n",
      "  569.7908622   169.43225601  138.0550759   514.61019903  916.22637037\n",
      "  888.59242563  905.69107501  909.72475427  703.16460351  163.05692882\n",
      "  906.13298097 3967.68912723  113.89358813  298.75601605  156.93577214\n",
      "  210.56571561  737.2412876   269.89256548  765.28873212  809.68398079\n",
      "  324.4045703  1532.75487372  790.58800183  155.96506134 3093.04595187\n",
      "  130.4601379   268.85018598  772.89779347 2747.65724265 1064.07814265\n",
      "  166.06775704  266.97742182  115.66348042  422.93811688  377.2404498\n",
      "  783.15217139  755.76232366  400.90870658  258.16214746  213.4929459\n",
      "  224.2117235   122.17370882  405.20875068  621.35581634  743.85587938\n",
      "  235.97595058  808.18344885  770.97526004 2751.78507327  468.4971377\n",
      "  197.59250654 4021.11512959  773.54879918  476.33259939  237.20830907\n",
      "  233.71060348  770.41284333  118.82055978  118.67200995  220.64207345\n",
      "  191.55980632  388.84192741  334.61816981  911.58992827  300.3785565\n",
      "  481.20136124  115.12773636  155.4100871   814.34325329 1189.16338216\n",
      "  200.76359221  910.72528522  135.36240736  115.24065704  677.19512889\n",
      "  911.07383641 1996.47965672  140.48119384  345.02327771  403.38683617\n",
      "  134.97776017  905.70594562  331.28101756  792.7431351   210.61759743\n",
      "  768.43450007  787.40324911  531.32202715  774.01384499  596.99651135\n",
      "  906.96884932  717.61368867  354.29927406  365.48690395  870.95199906\n",
      "  116.89054401  848.47421811  765.63428441  804.67696954  904.79897861\n",
      "  753.62479643  274.00214423  910.17187591  912.2188954   786.00826168\n",
      "  754.61917702  295.8725179   122.06056995  786.14593089  118.5342188\n",
      "  917.2767123   114.86142122  224.38664488  565.30348485 3665.03059411\n",
      " 4495.91565688  334.66712956  138.49813821  201.32138596 3122.39218579\n",
      "  909.33659093]\n",
      "[3.70285004e+02 1.13945999e+01 9.80921997e+02 2.25769000e+02\n",
      " 2.13908005e+02 3.38007009e+03 1.61283936e+02 1.99841000e+02\n",
      " 1.40150003e+01 4.59657013e+02 7.53591980e+02 3.25362947e+03\n",
      " 1.21756001e+01 3.21591003e+02 2.38487524e+02 2.10957985e+03\n",
      " 1.21995001e+01 1.19370003e+01 2.00689052e+02 2.41338786e+02\n",
      " 2.70549011e+02 1.37379999e+01 5.17493688e+02 1.99883606e+02\n",
      " 1.65947208e+02 4.80657990e+02 1.97079000e+02 7.91440010e+00\n",
      " 4.53554786e+02 4.83045998e+01 5.92166996e+00 1.48768163e+02\n",
      " 6.16708755e+02 3.51110017e+02 4.36783981e+01 3.59757394e+02\n",
      " 8.46539021e+00 1.29526993e+02 2.01902310e+02 1.70930890e+02\n",
      " 4.34027008e+02 9.01795983e-01 2.67069645e+02 2.25120000e+02\n",
      " 2.20589000e+02 1.07560997e+01 1.39642004e+03 2.23522700e+02\n",
      " 2.10788710e+03 1.22032712e+02 2.87428986e+02 1.78725493e+02\n",
      " 1.05066004e+01 2.17808443e+02 8.45257996e+02 1.28231001e+01\n",
      " 8.38724041e+00 2.69223201e+02 2.21333421e+02 2.29928902e+02\n",
      " 9.37124014e-01 7.92167008e-01 6.73612976e+02 1.71629420e+02\n",
      " 1.23260213e+02 2.44506001e+00 1.17542645e+02 4.33786610e+02\n",
      " 6.99221985e+02 3.02337006e+02 2.29668039e+02 1.24505997e+01\n",
      " 1.42927114e+02 8.93405974e-01 1.04957996e+03 5.11147003e+02\n",
      " 1.78106748e+03 9.99230981e-01 2.49496007e+00 3.55488090e+02\n",
      " 5.19742004e+02 1.26706000e+02 2.20941859e+02 1.75199341e+02\n",
      " 6.33698988e+00 2.46670015e+02 6.42868967e+02 3.60401001e+02\n",
      " 5.92984985e+02 4.75346985e+02 3.23696014e+02 1.72157383e+02\n",
      " 2.32331000e+02 3.96457001e+02 2.11484963e+02 2.90695999e+02\n",
      " 1.84690476e+02 3.49088046e+03 9.26032007e-01 2.07965744e+03\n",
      " 7.39703989e+00 4.99641998e+02 1.71649461e+03 2.73754156e+02\n",
      " 5.39656997e-01 5.56726013e+02 2.44142144e+02 1.73497009e+01\n",
      " 1.31726999e+01 4.68279991e+01 2.34215027e+02 1.19187002e+01\n",
      " 2.41931320e+02 4.43626022e+00 1.51717574e+02 1.97875000e+02\n",
      " 4.06463787e+02 3.91024162e+02 1.71638583e+02 7.37023010e+02\n",
      " 9.44210022e+02 3.04135986e+02 4.35713135e+02 8.67950976e-01\n",
      " 1.58216024e+02 4.72902008e+02 3.95229387e+03 9.31126976e+00\n",
      " 1.15479002e+01 5.91807983e+02 6.01908992e+02 4.12457619e+02\n",
      " 1.93022995e+01 9.40205002e+00 2.22490335e+02 1.17157852e+02\n",
      " 7.51618972e+02 6.94367004e+02 1.89865063e+02 2.96497009e+02\n",
      " 2.47051017e+02 1.19895000e+01 1.82662818e+02 4.71630420e+02\n",
      " 1.40015001e+01 1.85066000e+02 8.78265015e+02 2.82803986e+02\n",
      " 8.16119995e+02 3.11226103e+02 1.94589996e+01 1.73142739e+02\n",
      " 1.57596396e+02 1.07492671e+02 2.18505000e+02 3.94961957e+02\n",
      " 3.40815845e+02 3.12988007e+02 7.87658978e+00 1.09654999e+01\n",
      " 1.75177000e+02 9.24149017e+01 2.51697006e+02 9.14204025e+01\n",
      " 2.79215409e+02 2.17871562e+02 1.36746252e+02 1.05517004e+03\n",
      " 2.16076835e+03 4.35079745e+02 1.11482000e+01 1.32372519e+02\n",
      " 9.97719971e+02 7.72638016e+01 4.80355011e+02 1.89304171e+02\n",
      " 3.19570000e+02 1.11587000e+01 2.14724998e+01 8.84443970e+02\n",
      " 1.09091997e+01 1.49059153e+02 1.61422782e+03 1.62166037e+02\n",
      " 2.64010023e+02 2.22402000e+02 1.97247000e+02 3.32394012e+02\n",
      " 3.07907990e+02 1.57363007e+02 1.86914006e+02 1.17554998e+01\n",
      " 2.84105000e+02 1.82619499e+03 6.59297926e+02 1.97381000e+02\n",
      " 2.64728585e+02 8.26523018e+00 7.94645020e+02 4.69618988e+02\n",
      " 1.75534374e+02 1.13529997e+01 1.36443623e+02 2.46522003e+02\n",
      " 4.40040507e+02 1.77546997e+01 1.37138999e+00 2.77320713e+03\n",
      " 6.05187012e+02 1.81016092e+02 9.16626990e-01 1.71874670e+02\n",
      " 5.09744573e+02 1.12474003e+01 1.13171421e+02 2.15356995e+02\n",
      " 3.81190761e+02 8.15997982e+00 2.29274257e+02 1.73708441e+02\n",
      " 9.55532014e-01 2.29775996e+02 3.78213698e+02 1.53964996e+01\n",
      " 2.43194650e+03 8.42284966e+00 1.76114575e+02 1.59535919e+03\n",
      " 2.97423004e+02 4.74411987e+02 1.26683998e+01 2.35851200e+02\n",
      " 9.40701008e-01 2.27181000e+02 6.03897746e+02 1.34171712e+02\n",
      " 1.04168005e+03 2.30774002e+02 6.94148010e+02 8.10216999e+00\n",
      " 2.07602056e+02 1.08009996e+01 1.16190996e+01 9.38444972e-01\n",
      " 2.97475006e+02 4.46418991e+01 5.33283997e+02 7.23338989e+02\n",
      " 1.97977997e+02 8.38148022e+00 1.47570374e+03 9.00771022e-01\n",
      " 7.62969971e+01 2.94267645e+02 2.22238998e+02 2.89259000e+02\n",
      " 1.16563997e+01 4.07905746e+03 1.79916622e+03 1.38360996e+01\n",
      " 7.45729017e+00 9.43984985e+01 1.41830324e+02 2.35483805e+02\n",
      " 1.03909998e+03 9.74114990e+02 4.34071999e+01 1.81762409e+03\n",
      " 1.38252281e+03 1.43543998e+02 2.96298004e+02 9.86719036e+00\n",
      " 9.42004979e-01 4.31450996e+01 1.19430883e+02 9.29773045e+00\n",
      " 2.68113560e+02 1.99193283e+02 1.10815001e+01 1.35031028e+02\n",
      " 1.80697176e+03 1.79499322e+02 1.28779001e+01 5.72668030e+02\n",
      " 1.75992884e+02 1.91953400e+03 1.47697001e+01 1.36677002e+03\n",
      " 4.65361977e+00 1.73889973e+02 1.25318713e+03 9.96234989e+00\n",
      " 2.74315000e+02 2.36358620e+03 2.63057680e+03 8.72482014e+00\n",
      " 3.80652008e+02 1.67838521e+02 5.12500000e+01 3.87740997e+02\n",
      " 1.04121995e+00 1.74217127e+02 1.99662003e+02 7.44367981e+00\n",
      " 2.71494534e+03 5.02193985e+01 2.58071014e+02 2.70225528e+02\n",
      " 7.07049988e+02 8.88812006e-01 6.23647022e+00 6.50645018e-01\n",
      " 1.18958998e+00 5.16036011e+02 1.48225169e+02 6.87170982e-01\n",
      " 2.41990629e+03 1.68077100e+02 1.57757996e+02 1.93293258e+02\n",
      " 1.91332912e+02 1.09476004e+01 1.38361557e+02 1.32770004e+01\n",
      " 9.76949978e+00 2.23074000e+02 8.60414978e+02 1.12789001e+01\n",
      " 1.43114990e+02 2.29570566e+03 1.55047677e+02 2.64087458e+02\n",
      " 8.99847031e+00 2.21162581e+03 8.12844971e+02 2.18050055e+02\n",
      " 3.09380305e+02 1.39374601e+02 5.49486621e+02 2.87437988e+02\n",
      " 8.19361973e+00 1.42830000e+01 5.75758048e+02 2.04044000e+02\n",
      " 2.31910995e+02 2.00635000e+02 1.28614089e+02 3.71052826e+02\n",
      " 5.83714597e+02 1.00326001e+03 2.97470001e+02 1.07320995e+01\n",
      " 8.29479027e+00 2.66286525e+03 7.56732971e+02 1.10010000e+02\n",
      " 2.71509266e+03 1.07528000e+01 4.50852997e+02 2.12231000e+02\n",
      " 3.14785004e+02 2.34377003e+01 1.01268575e+02 1.26361223e+02\n",
      " 9.17610562e+01 1.62402788e+02 3.77441846e+02 4.71329987e+02\n",
      " 8.54602993e-01 2.06733534e+02 2.77104000e+02 1.44226591e+02\n",
      " 2.18970600e+02 1.06006002e+01 8.95370972e+02 2.28989821e+02\n",
      " 5.61878026e-01 2.49484985e+02 1.65955359e+02 4.32420998e+01\n",
      " 1.32746994e+00 1.76803502e+03 2.49474339e+02 6.51431030e+02\n",
      " 3.52183245e+02 1.63450697e+02 6.78574026e-01 2.07408317e+02\n",
      " 1.06854000e+01 2.23774994e+02 1.96056995e+01 1.88931999e+01\n",
      " 6.42547974e+02 8.58753967e+00 1.13073940e+03 6.50627971e-01\n",
      " 5.18890991e+02 3.95874666e+02 2.82483002e+02 1.09981003e+01\n",
      " 1.33263076e+02 1.24525995e+01 1.20537004e+01 9.99627972e+00\n",
      " 7.38644004e-01 5.31074982e+01 3.36595001e+02 6.34962976e-01\n",
      " 9.86832976e-01 9.37051010e+00 8.24277973e+00 1.33201807e+02\n",
      " 1.95622658e+02 7.85821009e+00 1.44304154e+02 9.93318975e-01\n",
      " 1.34442889e+02 2.10120000e+02 5.67888977e+02 2.70662898e+03\n",
      " 2.85512653e+03 2.93497009e+02 2.65600613e+02 1.10214190e+02\n",
      " 2.19858246e+03 8.78614008e-01]\n",
      "[  113.88186722   725.6099699  10210.9469149   5234.55440325\n",
      "  4427.9299935  18257.61445732  9063.97458244 16071.02845517\n",
      "   498.35828593   438.65000405   615.28708036  9621.41115781\n",
      "   437.52349837   618.07643045   257.11698914 10555.74243915\n",
      "   395.69455116   290.45507294   265.35092222 13825.8927324\n",
      "  5235.67221034  9208.45900009   969.52142995  8719.11647861\n",
      "   240.28619365   612.38541694 15442.05021023   250.89794097\n",
      "  9136.68738435 11415.47449509   613.10380096   403.71318868\n",
      "   442.99761823  8642.77571694 16731.92275261   327.26798029\n",
      "  5013.01424328 13394.28395248  4536.32361364   836.46226204\n",
      " 14539.86997372  9558.52672956 10483.81048692   595.51382947\n",
      "  7301.68716442   373.33098469 16642.74082098   630.17812336\n",
      "  2753.6741886    619.95220135   462.50339153   976.88507466\n",
      "   656.5202522    703.14675687   265.82653357  9977.30442213\n",
      "   458.57440356  2820.21660712  9387.17332652  1030.96835233\n",
      "   682.65425451  7765.05172318   519.43360032 10552.97462228\n",
      "   252.90861689   113.39069958   113.23350971   383.96412972\n",
      "   781.92108897   527.21343479  3983.53126723 18615.8383428\n",
      " 11251.94296779   309.7103475    235.83483734   144.05757652\n",
      "   597.80593183 17812.13057794   241.53388445  6803.20708048\n",
      "  9220.84233191  8977.45431815  1941.29709731  9217.86221781\n",
      "  4100.43697638   147.22835663  9142.01364384  6212.82487448\n",
      "   732.81901202   237.44690267   421.27935673   327.06227774\n",
      "   674.42332785   426.20798876   395.70996833  9209.67368473\n",
      "   320.48021957   330.76500861   862.09483912  9357.35180505\n",
      "   271.74788386 10088.7605131    439.90279732  1175.47783185\n",
      "  8706.19350227   576.41203753   788.09555606  8015.36824747\n",
      "  1138.94414792   553.29116885  9152.55186503  3947.98275248\n",
      "  1669.71487696   523.93478475  9095.5919627    231.41780617\n",
      "   977.61218136   404.35492244   333.55758321 10172.7335534\n",
      "   233.5551082    114.98498334   430.53994002  4506.70304322\n",
      " 19542.23329645  9234.00586528  9191.63394374  7810.85371128\n",
      "   321.85657378   387.2606495    435.754963     619.75548682\n",
      "  8873.5803469  18976.50805065 10201.77275046   246.33122964\n",
      "   235.47157431  7791.09390872   247.29005978  9125.44710179\n",
      "   614.67108216   621.55020397  3930.87796183  6624.94966295\n",
      " 10206.05087776   618.50900392  9623.80503541 16817.05390888\n",
      " 14245.3370379   3927.28539586  4656.32999852  9014.17661333\n",
      "  4102.34293538  1144.36840626 10707.09064215  8700.44006964\n",
      "  4995.40421618 11340.70623532  4078.43223773   460.14156085\n",
      "   243.03632725   141.38678257  8794.79981141   481.47643728\n",
      "   468.03005362  7882.24491877  1071.14609457  7184.25137538\n",
      " 13912.76378818 14648.85761167  6152.93347666 11293.36310715\n",
      "  9984.12718054  5160.38852304 17135.87078577  9136.24167834\n",
      "  6321.78486626   632.72603212 15719.10808758   362.58056509\n",
      "  4362.66173557   252.11130264  9499.68188446   422.58516345\n",
      "   685.37663117   857.30151087  6178.58396925   207.34734827\n",
      "   262.19430062   292.32525665  9222.235634    7876.43832479\n",
      "   487.68143827  9105.73202013  8980.86518052 18867.50027688\n",
      "  4987.85382839 14914.70818735  7509.20540043  4071.17876587\n",
      "   279.12728183  1821.54073372  3924.30508329  5094.52719975\n",
      "   245.54569428   413.43753754   945.70601251  6149.21446987\n",
      "   167.23149282   434.59238941   674.95714616 20732.08546217\n",
      "  3980.93792889   261.78202158   966.40127064   463.59509947\n",
      "  8550.60391019 17858.49837422  8916.31639769  2991.98314493\n",
      " 10600.57470414   442.23537242   263.22413314   422.92447774\n",
      "   413.22289893   600.00512536   214.65850857   702.29675087\n",
      "  8723.18305469 11176.59203853  4668.95907386   445.37097663\n",
      "  6199.91888452  5224.55733475   683.15510917  9510.98599234\n",
      "   587.69064194  7323.48474029 15175.12461081  1619.24131594\n",
      "   401.54435397  9118.4672531    355.00090868  2718.222443\n",
      "   257.55341785   249.14079293  6466.29544891 11120.550304\n",
      " 11156.39205028   249.34979828   763.1250053    131.43140608\n",
      "   460.92926601   805.36787108   288.26648708   418.24196027\n",
      "  3998.92447473   360.6102118    237.52927608  3733.64652171\n",
      "   288.52161551 11047.69585229  6503.09242583  9038.68313758\n",
      "  9200.30601889  6859.44253934   406.80575952  3749.64594665\n",
      "   453.81561802   723.67474089  6595.13150036 10187.25035314\n",
      "  9201.0971203    263.73849355   325.14289486   238.22200958\n",
      "   115.18441789   423.15969568  1513.13130339   113.36330795\n",
      "  8306.05175571   360.93354239   452.48377343  8669.61240264\n",
      "   361.6678107   9131.74825249   355.6559332   9194.96511542\n",
      "   428.217973    2763.2451997  10800.39060385  4255.06637337\n",
      "   869.86448944  7385.67690888  8799.22004218   307.97462398\n",
      "  8994.04552918 18665.44497706  9351.29785353  9165.07797885\n",
      "   838.89592733   117.79166976  4076.73999745   264.81712587\n",
      "   684.33063124   426.1453022   9254.72841324   207.65577316\n",
      "   773.07202044  8204.65998418   493.32964128   240.28960514\n",
      "  9620.18536057  9386.71164293   289.09119211 11365.62424776\n",
      "  9544.48314794   604.54122293   296.25123769  9687.07899539\n",
      "   438.63161008   395.50228657  8758.72079495   515.06865079\n",
      "   701.42732909  8512.91024853   350.49165365   293.17889208\n",
      "   920.78580117   681.27115445  8178.35111428   457.35968198\n",
      " 10753.03948783  6191.87148284 10570.82859648 10554.62618443\n",
      "   253.85928059  6846.02285396  7861.67826131   457.51484434\n",
      "  8712.72489035   451.58849159  2784.27951571 15503.67590463\n",
      "  8990.13950167   621.12781339  3944.97672205  4030.66766482\n",
      "   329.57065089  8102.39094888   670.90235922  9148.44549879\n",
      "  4039.90126841 18295.06520507  3924.32242381   390.24033236\n",
      " 16952.31483291  8999.00346379  7852.64203537  9244.89341982\n",
      "   134.65002747   507.17413678   889.86540626  4091.74276026\n",
      " 10083.70518758   138.91562967   394.55346299   369.16585626\n",
      "   136.78561679   352.2730122   9405.63107164   511.7658697\n",
      "   683.27018359 15157.33976916   429.68460521 14104.83765197\n",
      "   160.30947161  9713.64787033 11179.51067903   952.52201045\n",
      "   805.65045666   769.24331144   801.73294711   414.35775713\n",
      "   366.25038237   493.95427377 11087.47438062   683.07837634\n",
      "   321.14513638   114.35971452 10158.28345625 17055.21075796\n",
      "   396.92090999   845.70654642  9403.90529744  8917.50693679\n",
      "   265.47985565   455.81421979  4020.18728861   249.55869171\n",
      "  6368.92839759  9222.1263102   8006.49802197  7333.03387141\n",
      " 10205.60674313  4836.16587983  1200.63151877   438.85997985\n",
      "   605.67946582   131.51036638   376.87587642 10152.02801627\n",
      "  7967.16195094   442.19184747 14927.56777675   119.51763667\n",
      "  4454.11207995   116.42442236   747.4013779    646.73947756\n",
      "  8967.18459484  9131.44662155   914.48012658   602.24879739\n",
      "  8834.24704718   403.31032281  4018.69875751  6369.32283667\n",
      "   233.577569    5125.40734431 18149.57496687   835.02924048\n",
      " 11441.8526949    640.91927845  9195.09843973 10642.22337067\n",
      "   395.95925527  9065.50103586 13398.15025994  7447.15412203\n",
      "  9514.44645296 10092.32897516  9159.04544387   297.21004733\n",
      " 13109.17405321  1754.09337941  9369.41920583  6758.36477306\n",
      "   725.77221112  9944.02932356 10124.73061691   309.50324482\n",
      "  4076.09955448   274.66503544   264.32226281   768.4267178\n",
      "  1517.7634509    423.76450799   638.21157567  4782.39692571\n",
      "  6556.88715402   425.61535192   594.15806763   267.34330222\n",
      "   317.19020656   579.05666356   398.77131894   387.72862175\n",
      "  2954.04802066  1489.01163419   113.12514981  9203.82033157\n",
      "   362.3563173   7868.7451248    221.88234883   645.32703504\n",
      "  9710.64125225   598.94890679  9383.7711321    361.31298389\n",
      "   451.25660494 10073.9743579   4489.65988819   246.43395618\n",
      " 10495.43997004   594.16133591   324.66822246   532.37428067\n",
      "   126.76106988  1085.42874186 16657.1434799    613.38873015\n",
      "   575.4160361   9292.83786536   762.2468914    384.11517824\n",
      "  9870.91025339   113.39069958  5237.8959754   9185.54731403\n",
      "   476.69018371  8608.47189855   379.07067088 10612.53111518\n",
      "  7182.1062085    380.26011514  6150.62662504   418.40332041\n",
      " 10538.12722113 14895.75872567  2894.18893955   351.53964495\n",
      "  5203.3522679    438.30508757  9395.89747349 11443.05084064\n",
      "  5328.87810344   671.65792546   296.97771528  9228.973213\n",
      "   229.21279224   113.19837363   219.8109224    764.79657597\n",
      "  9847.07132982   112.94322656 16728.09731933   500.69036984\n",
      "   289.66342323   625.32795962  1188.09614103 10187.81567804\n",
      "   252.32198698  8837.3089418  10399.29478484 14385.09487367\n",
      "  5197.43161658 14540.44194082  3661.65151446  6686.58357235\n",
      "   112.89726594   310.25275054  9074.37776853  9492.46845928\n",
      "  4062.02705936 11072.42955262 18087.56968196  8011.4325594\n",
      "  9207.52259793  7249.99868205   313.15305107  5234.76531548\n",
      "  6319.40795339   266.39014551   449.58154819  9141.55350712\n",
      "   808.63532507  3840.90770463   638.99998857   655.24415629\n",
      "  8265.21184675  6560.28375094  9325.89210234   875.1481448\n",
      " 10320.22101409   131.9239492  14498.45912309 19163.41032291\n",
      "  6216.60446948  9524.88893733  8171.53827426   646.8439782\n",
      "  9310.87218149   391.2088518    427.9117199   9347.33333404\n",
      "   457.56196476  9204.24366211  9074.1145352  11327.39616225\n",
      "   113.70407926   357.54740333 16962.22664583   341.86743781\n",
      "  1183.30678883  1623.24553066   255.29644726  8980.2255564\n",
      " 14529.94539104   367.53582499   202.39761292 11979.18661317\n",
      "  7091.85157836]\n",
      "[  198.22999573   522.70001221  8222.07826034  5067.10847228\n",
      "  3457.79274724 34235.19345116  9235.35487947 37472.09010368\n",
      "   448.90301514   416.51599121   657.07098389  8845.83007812\n",
      "   426.76501465   583.4119873    246.06300354 10551.79980469\n",
      "   325.74899292   230.64399719   380.25698853 33114.35774753\n",
      "  3413.7677183   7633.75976562   681.0300293   8367.84777344\n",
      "   239.14199829   626.49700928 18642.23276593   240.29600525\n",
      " 10116.673759   10821.7265103    657.5880127    345.30499268\n",
      "   420.23001099  7344.88418341 34662.43589358   223.83299255\n",
      "  4029.32690706 16477.59960938  3552.95306759   605.82000732\n",
      " 34269.52154165  9677.11349729 13550.4893841    483.3420105\n",
      "  6300.86         375.09500122 58918.83271375   614.83197021\n",
      "  2318.87988281   638.64599609   447.20901489  1222.5\n",
      "   715.53399658   566.35498047  1045.10998535  9303.62971409\n",
      "   387.53601074  3378.93994141  8838.37523367   920.38201904\n",
      "   654.09698486 11657.20019531   447.25201416 10369.5637386\n",
      "   243.59399414   101.43699646   104.           369.67001343\n",
      "   792.71398926   814.64001465  3655.00688578 35698.29644336\n",
      " 10397.90039062   235.3500061    238.72999573   703.55999756\n",
      "   597.14898682 23735.94972763   249.50799561  8181.39013672\n",
      "  9264.81304308  6734.81982422  1167.54003906  8145.85747373\n",
      "  4328.41015625    94.69129944  8250.96972656  4602.17\n",
      "   770.80999756   237.54899597   347.27099609   223.41200256\n",
      "   740.28900146   445.73699951   286.18899536  7218.37133433\n",
      "   228.76100159   352.68399048   825.36999512 12156.5126313\n",
      "   274.90100098  9598.17364826   448.42800903  1011.79998779\n",
      "  6675.35009766   610.684021     963.74298096  6559.49023438\n",
      "  1223.54003906   580.82702637  9151.39223963  3810.42743065\n",
      "  1172.52001953   475.3710022   8827.76442606   234.01800537\n",
      "  1117.43994141   327.06201172   698.22998047 10019.7169101\n",
      "   221.76400757   417.95001221   352.54199219  3599.7658879\n",
      " 29001.71982218 14291.5        11592.4890449   3696.05912776\n",
      "   265.67999268   430.56698608   374.44799805   641.63098145\n",
      "  9205.72655905 42909.40092517  9729.32376435   257.06399536\n",
      "   281.70199585  5950.06982422   253.82800293  7472.58984375\n",
      "   621.55102539   610.20397949  6031.60009766  6332.63\n",
      "  9228.32559024   583.91699219 11779.7732574  59793.23541009\n",
      " 30432.54707881  3629.78749138  5647.20996094  9951.5187451\n",
      "  7078.5         1267.11999512 10166.40039062  6906.91992188\n",
      "  3487.94538683 14156.40039062  6130.52978516   623.67700195\n",
      "   232.75700378    94.51000214 10817.1555981    446.26400757\n",
      "   382.55599976  6753.12        1249.60998535  5746.80700343\n",
      " 43537.51138918 32505.6598245   3424.58807495 10916.0538702\n",
      "  9162.91760386  3924.9699707  54824.70489507  9321.78129819\n",
      "  6588.31         723.27301025 45137.77046805   455.65301514\n",
      "  2571.34008789   250.89500427 11410.5256775    441.38900757\n",
      "   645.15600586   616.63000488  6602.95         104.00499725\n",
      "   374.47000122   320.16598511  9510.20054413  3252.83902595\n",
      "   598.07098389 14026.59960938  9360.87991187 58803.77580865\n",
      "  5446.91015625 11225.29980469  7292.99507783  3678.92468128\n",
      "   242.71299744  1071.79003906  3620.81075285  5247.35253746\n",
      "   235.977005     420.73498535  1166.7199707   8801.03776688\n",
      "   113.5          454.61898804   585.5880127  57356.40187692\n",
      "  3915.71447331   225.85499573  1061.34997559   449.59899902\n",
      " 11215.4375483  47105.51747252  9350.52936518  2754.86010742\n",
      " 15701.33973237   418.04098511   260.92800903   435.50900269\n",
      "   421.44400024   501.56500244  1078.2800293    634.10998535\n",
      "  9522.98115678 11711.506161    4161.27001953   442.67599487\n",
      "  3779.13        3576.03243928   822.03997803  9313.61034868\n",
      "   605.69299316  7397.7968154  18370.00252365  1723.34997559\n",
      "   387.88198853 17899.69921875   247.84700012  2601.63989258\n",
      "   247.05000305   240.38299561  6225.98        8879.62011719\n",
      " 10343.1061684    283.67999268   975.92102051    91.61000061\n",
      "   583.42401123  1021.75         224.62600708   420.6210022\n",
      "  3761.55701842   379.24499512   230.61799622  2608.7199707\n",
      "   244.22399902 10760.06625677  6361.26        7096.28\n",
      " 11664.8479948   6453.72         387.4079895   2357.89990234\n",
      "   574.63000488   735.60400391  5648.03        8103.91137325\n",
      "  9132.22786293   373.36801147   210.49499512   236.15299988\n",
      "   126.94000244   425.19000244  1176.90002441   193.75999451\n",
      "  6856.93017578   462.32199097   438.8210144   9924.51522822\n",
      "   209.84399414  9192.83736784   208.09700012  8784.49384867\n",
      "   430.57199097  2671.7800293  11478.1693461   3985.08080287\n",
      "   666.7800293   9743.86035156  8510.37988281   226.85299683\n",
      " 11182.8062855  57828.05063222  7514.47021484  8338.34960938\n",
      "   682.21002197   128.22000122  3926.07006836   273.61401367\n",
      "   665.01202393   451.875       8209.40039062   229.80999756\n",
      "   784.90698242  8790.91992188   440.28500366   224.95199585\n",
      "  9934.43339025  8802.45996094   236.1210022   9811.92618837\n",
      "  7556.23803387   621.58599854   230.51199341 11878.1113253\n",
      "   641.61401367   274.47399902  6932.48038982   411.57400513\n",
      "   835.63000488  6556.1          357.38101196   236.42599487\n",
      "   623.0300293    461.90701294  6334.73         606.72698975\n",
      " 15579.84846029  4365.94        9911.84226491 10944.5858045\n",
      "   106.22000122  8723.78576573  5829.50151628   364.33099365\n",
      "  9081.76202252   381.64898682  2805.62011719 48378.98805435\n",
      "  6349.89990234   636.1920166   3954.1182433   3851.04747978\n",
      "   221.60899353  6673.5          579.65100098  9243.61385509\n",
      "  3857.71761887 57200.29122289  3602.46043861   346.36499023\n",
      " 57805.12301924  6582.35986328  7708.99023438  6550.16015625\n",
      "    86.76000214   375.4670105    712.40002441  7407.41015625\n",
      "  8595.73981722   135.3500061    415.56298828   433.75500488\n",
      "   136.77000427   273.47299194 11358.661752     377.18099976\n",
      "   575.63000488 49150.53387514   452.72799683 46456.05847448\n",
      "    99.7559967   7320.1454684  13271.28536861   921.01202393\n",
      "   582.69000244   790.82897949   902.20098877   383.1579895\n",
      "   444.18200684   594.14599609 11429.50688675   447.52600098\n",
      "   227.18299866   213.61999512 12823.68918938 37575.17957566\n",
      "   322.53399658  1004.45001221  7302.0895105   9633.38688518\n",
      "   243.86300659   440.16900635  3859.58375221   235.34399414\n",
      "  6596.54        6185.06651501  7418.49023438  7296.57756843\n",
      "  7916.87988281  5831.79003906  1210.29003906   435.69000244\n",
      "   619.41497803    92.16999817   267.79598999  7278.1197833\n",
      "  7116.80421777   414.81600952 56048.93781271   108.15000153\n",
      "  4772.02001953   108.25         605.65997314   591.06097412\n",
      "  9551.7149631   8041.77978516   921.78900146   625.32000732\n",
      "  8166.55414039   388.94900513  3657.83943502  6321.2\n",
      "   256.33599854  5285.13900822 37316.35939997   802.\n",
      " 11542.4997333    588.77001953  9123.41015432 10680.8374328\n",
      "   335.59100342  8693.83281543 14360.20019531  7769.21903905\n",
      " 10530.7326264   5563.70689169  7400.89935576   240.10699463\n",
      "  8926.5703125   2320.41992188  9342.52717939  5831.16747167\n",
      "   606.27197266  9477.64204235  7531.97998047   247.27200317\n",
      "  3998.98034184   278.08898926   276.04901123   898.82202148\n",
      "   818.7199707    420.34899902   584.65301514  5036.68110011\n",
      "  6419.66         391.72601318   491.30300903   231.26800537\n",
      "   230.29800415   479.74899292   411.62399292   430.01098633\n",
      "  2804.72998047  1045.77001953   145.24000549  9428.3330848\n",
      "   253.71800232  7037.58         236.92900085   586.66601562\n",
      "  7541.45019531   626.315979   10701.691013     988.51000977\n",
      "   592.93701172  8393.04164486  4069.10714977   244.53399658\n",
      "  8913.46972656   596.29797363   228.16900635   448.05801392\n",
      "   104.          1240.         60683.82123331   508.28601074\n",
      "   601.08898926  7321.98811242   885.2800293    329.95599365\n",
      "  6968.31982422   245.24000549  5337.8861323   9525.7510947\n",
      "   383.61499023  9726.5748149    274.79598999 13737.10982864\n",
      "  6517.31         283.34899902  7117.20747869   424.02999878\n",
      " 10784.49157795 58192.35868406  2576.47998047   226.97200012\n",
      "  3905.94995117   369.94900513  8987.04980469 10233.90039062\n",
      "  4174.72998047   574.10699463   278.57699585  9277.96790642\n",
      "   233.12800598   123.62999725   104.50099945   665.68499756\n",
      "  8668.12011719   102.73699951 37332.85368874   485.72399902\n",
      "   239.84700012   740.82897949  1222.05004883 10666.4828491\n",
      "   232.4019928   9870.09445278 10345.8103795  58917.6930451\n",
      "  3604.57705248 19154.231131    2810.12011719  3745.95076478\n",
      "   137.33999634   255.49200439 16624.59960938 11754.0458135\n",
      "  4973.02181522 16716.11132377 33572.11765253  7096.18465879\n",
      " 11512.59960938  7257.66485847   235.01899719  5314.5314532\n",
      "  6543.2          236.46200562   607.95800781  9729.80223149\n",
      "  1043.83996582  2480.84008789   588.86901855   656.99200439\n",
      "  8071.25976562  6371.27        9461.05891806   559.78997803\n",
      " 10669.58254327   122.38999939 59302.31697742 44918.18449192\n",
      "  4338.70996094  8820.52220005  7200.17439274   420.94699097\n",
      "  6729.74023438   327.92401123   420.78500366  7911.43012933\n",
      "   387.49099731  7833.04003906  6792.83        9607.42368665\n",
      "   128.79899597   442.68499756 51762.27205146   358.04199219\n",
      "  1317.72998047  1596.70996094   361.18899536  9256.14838876\n",
      " 32569.84955679   463.61599731   234.82499695 11440.70019531\n",
      "  6480.38      ]\n"
     ]
    }
   ],
   "source": [
    "# Print the predicted values\n",
    "# for ada\n",
    "svm_prediction1 = svr_rbf.predict(X1_test)\n",
    "print(svm_prediction1)\n",
    "# Print the actual values\n",
    "print(y1_test)\n",
    "\n",
    "# for eth\n",
    "svm_prediction2 = svr_rbf.predict(X2_test)\n",
    "print(svm_prediction2)\n",
    "# Print the actual values\n",
    "print(y2_test)\n",
    "\n",
    "# for ada\n",
    "svm_prediction3 = svr_rbf.predict(X3_test)\n",
    "print(svm_prediction3)\n",
    "# Print the actual values\n",
    "print(y3_test)"
   ]
  },
  {
   "cell_type": "code",
   "execution_count": 43,
   "id": "2789fdee",
   "metadata": {
    "execution": {
     "iopub.execute_input": "2022-04-20T17:25:19.347250Z",
     "iopub.status.busy": "2022-04-20T17:25:19.346554Z",
     "iopub.status.idle": "2022-04-20T17:25:19.368900Z",
     "shell.execute_reply": "2022-04-20T17:25:19.369681Z",
     "shell.execute_reply.started": "2022-04-20T17:18:11.119776Z"
    },
    "papermill": {
     "duration": 0.096792,
     "end_time": "2022-04-20T17:25:19.369911",
     "exception": false,
     "start_time": "2022-04-20T17:25:19.273119",
     "status": "completed"
    },
    "tags": []
   },
   "outputs": [
    {
     "name": "stdout",
     "output_type": "stream",
     "text": [
      "FOR ADA  [366.99944729 364.79035539 370.53763938 347.1181396  320.98595992\n",
      " 313.07498818 353.380202   354.04948584 355.64002694 326.90694514\n",
      " 329.81945069 294.40731787 282.90378315 306.7172852  211.02597246\n",
      " 198.27019515 212.96797537 207.2691296  166.51924869 166.19839883\n",
      " 192.87870139 234.43819931 252.05134084 273.88119735 243.42705418\n",
      " 247.34624836 287.73243351 311.23335268 344.94870421 353.17941145]\n",
      "FOR ETH  [2898.12065221 2717.92233008 2989.48793984 2781.02772522 3416.21417264\n",
      " 3290.70516497 2719.43708037 2734.61982962 3004.32412991 3322.81945544\n",
      " 3293.90822343 4078.15230237 4167.95879002 4027.97563815 3094.98446344\n",
      " 3045.65749013 3558.43762554 3552.0162112  2871.72810187 2908.53991849\n",
      " 3504.13423371 3974.80945221 4165.27621209 3903.24354724 4086.02320059\n",
      " 4156.10436348 4094.58258839 3628.8892105  4151.48184731 3609.79135562]\n",
      "FOR BTC  [16155.71733599 16048.6872057  18645.17653842 18273.27509993\n",
      " 18638.83729717 19068.38899723 17477.28778201 14832.18122592\n",
      " 15020.61938572 16678.52318    15547.22895335 18848.67221517\n",
      " 19379.10570935 19339.1512325  14148.90647889 17111.07140779\n",
      " 16203.57324745 14976.95021639 14037.10307331 17483.82132786\n",
      " 15011.83922749 15463.95351481 18213.57238315 14229.36779643\n",
      " 16162.29772284 16359.74131833 14959.88567684 15880.66837747\n",
      " 16216.30049191 15932.60884444]\n"
     ]
    }
   ],
   "source": [
    "# print the model predictions for next 30 days\n",
    "#for ada\n",
    "svm_prediction1 = svr_rbf.predict(prediction_days_array1)\n",
    "print('FOR ADA ',svm_prediction1)\n",
    "\n",
    "#for eth\n",
    "svm_prediction2 = svr_rbf.predict(prediction_days_array2)\n",
    "print('FOR ETH ',svm_prediction2)\n",
    "\n",
    "#for btc\n",
    "svm_prediction3 = svr_rbf.predict(prediction_days_array3)\n",
    "print('FOR BTC ',svm_prediction3[:30])"
   ]
  },
  {
   "cell_type": "code",
   "execution_count": 44,
   "id": "7a935655",
   "metadata": {
    "execution": {
     "iopub.execute_input": "2022-04-20T17:25:19.511002Z",
     "iopub.status.busy": "2022-04-20T17:25:19.510268Z",
     "iopub.status.idle": "2022-04-20T17:25:19.547417Z",
     "shell.execute_reply": "2022-04-20T17:25:19.547879Z",
     "shell.execute_reply.started": "2022-04-20T17:18:11.162789Z"
    },
    "papermill": {
     "duration": 0.108568,
     "end_time": "2022-04-20T17:25:19.548059",
     "exception": false,
     "start_time": "2022-04-20T17:25:19.439491",
     "status": "completed"
    },
    "tags": []
   },
   "outputs": [
    {
     "data": {
      "text/html": [
       "<div>\n",
       "<style scoped>\n",
       "    .dataframe tbody tr th:only-of-type {\n",
       "        vertical-align: middle;\n",
       "    }\n",
       "\n",
       "    .dataframe tbody tr th {\n",
       "        vertical-align: top;\n",
       "    }\n",
       "\n",
       "    .dataframe thead th {\n",
       "        text-align: right;\n",
       "    }\n",
       "</style>\n",
       "<table border=\"1\" class=\"dataframe\">\n",
       "  <thead>\n",
       "    <tr style=\"text-align: right;\">\n",
       "      <th></th>\n",
       "      <th>ADA</th>\n",
       "      <th>ADA_ACTUAL</th>\n",
       "      <th>ETH</th>\n",
       "      <th>ETH_ACTUAL</th>\n",
       "      <th>BTC</th>\n",
       "      <th>BTC_ACTUAL</th>\n",
       "    </tr>\n",
       "  </thead>\n",
       "  <tbody>\n",
       "    <tr>\n",
       "      <th>0</th>\n",
       "      <td>366.999447</td>\n",
       "      <td>369.978111</td>\n",
       "      <td>2898.120652</td>\n",
       "      <td>370.285004</td>\n",
       "      <td>16155.717336</td>\n",
       "      <td>198.229996</td>\n",
       "    </tr>\n",
       "    <tr>\n",
       "      <th>1</th>\n",
       "      <td>364.790355</td>\n",
       "      <td>518.072540</td>\n",
       "      <td>2717.922330</td>\n",
       "      <td>11.394600</td>\n",
       "      <td>16048.687206</td>\n",
       "      <td>522.700012</td>\n",
       "    </tr>\n",
       "    <tr>\n",
       "      <th>2</th>\n",
       "      <td>370.537639</td>\n",
       "      <td>381.082605</td>\n",
       "      <td>2989.487940</td>\n",
       "      <td>980.921997</td>\n",
       "      <td>18645.176538</td>\n",
       "      <td>8222.078260</td>\n",
       "    </tr>\n",
       "    <tr>\n",
       "      <th>3</th>\n",
       "      <td>347.118140</td>\n",
       "      <td>367.125536</td>\n",
       "      <td>2781.027725</td>\n",
       "      <td>225.769000</td>\n",
       "      <td>18273.275100</td>\n",
       "      <td>5067.108472</td>\n",
       "    </tr>\n",
       "    <tr>\n",
       "      <th>4</th>\n",
       "      <td>320.985960</td>\n",
       "      <td>383.989942</td>\n",
       "      <td>3416.214173</td>\n",
       "      <td>213.908005</td>\n",
       "      <td>18638.837297</td>\n",
       "      <td>3457.792747</td>\n",
       "    </tr>\n",
       "  </tbody>\n",
       "</table>\n",
       "</div>"
      ],
      "text/plain": [
       "          ADA  ADA_ACTUAL          ETH  ETH_ACTUAL           BTC   BTC_ACTUAL\n",
       "0  366.999447  369.978111  2898.120652  370.285004  16155.717336   198.229996\n",
       "1  364.790355  518.072540  2717.922330   11.394600  16048.687206   522.700012\n",
       "2  370.537639  381.082605  2989.487940  980.921997  18645.176538  8222.078260\n",
       "3  347.118140  367.125536  2781.027725  225.769000  18273.275100  5067.108472\n",
       "4  320.985960  383.989942  3416.214173  213.908005  18638.837297  3457.792747"
      ]
     },
     "execution_count": 44,
     "metadata": {},
     "output_type": "execute_result"
    }
   ],
   "source": [
    "# Predictions for each crypto_currency in a tabular format for 30 days\n",
    "new_predictions = pd.DataFrame([svm_prediction1,y1_test, svm_prediction2, y2_test, svm_prediction3[:30],y3_test], index=['ADA','ADA_ACTUAL','ETH','ETH_ACTUAL','BTC','BTC_ACTUAL']) \n",
    "new_predictions = new_predictions.transpose()\n",
    "new_predictions.head()"
   ]
  },
  {
   "cell_type": "code",
   "execution_count": 45,
   "id": "76878025",
   "metadata": {
    "execution": {
     "iopub.execute_input": "2022-04-20T17:25:19.689329Z",
     "iopub.status.busy": "2022-04-20T17:25:19.688670Z",
     "iopub.status.idle": "2022-04-20T17:25:20.921484Z",
     "shell.execute_reply": "2022-04-20T17:25:20.922027Z",
     "shell.execute_reply.started": "2022-04-20T17:18:11.209900Z"
    },
    "papermill": {
     "duration": 1.304997,
     "end_time": "2022-04-20T17:25:20.922200",
     "exception": false,
     "start_time": "2022-04-20T17:25:19.617203",
     "status": "completed"
    },
    "tags": []
   },
   "outputs": [
    {
     "data": {
      "image/png": "[encoded data removed]",
      "text/plain": [
       "<Figure size 1080x720 with 6 Axes>"
      ]
     },
     "metadata": {
      "needs_background": "light"
     },
     "output_type": "display_data"
    }
   ],
   "source": [
    "# Plotting the attained dataset\n",
    "lisst = []\n",
    "for i in range(1,31):\n",
    "    lisst.append(i)\n",
    "\n",
    "plt.figure(figsize=(15,10))\n",
    "\n",
    "plt.subplot(3,2,1)\n",
    "sns.lineplot(x = lisst, y = new_predictions['ADA'][:30], marker = 'o',color='orange' )\n",
    "plt.title(\"ADA Prediction Prices vs Days\")\n",
    "plt.xlabel(\"Days\")\n",
    "plt.ylabel(\"Predicted Price\")\n",
    "\n",
    "plt.subplot(3,2,2)\n",
    "new_predictions['ADA_ACTUAL'][:30].plot(marker='o',color='blue')\n",
    "plt.title(\"ADA Actual Prices vs Days\")\n",
    "plt.xlabel(\"Days\")\n",
    "plt.ylabel(\"Actual Price\")\n",
    "\n",
    "plt.subplot(3,2,3)\n",
    "sns.lineplot(x = lisst, y = new_predictions['ETH'][:30], marker = 'o' )\n",
    "plt.title(\"ETH Prediction Prices vs Days\")\n",
    "plt.xlabel(\"Days\")\n",
    "plt.ylabel(\"Predicted Price\")\n",
    "\n",
    "plt.subplot(3,2,4)\n",
    "new_predictions['ETH_ACTUAL'][:30].plot(marker='o',color='red')\n",
    "plt.title(\"ETH Actual Prices vs Days\")\n",
    "plt.xlabel(\"Days\")\n",
    "plt.ylabel(\"Actual Price\")\n",
    "\n",
    "plt.subplot(3,2,5)\n",
    "sns.lineplot(x = lisst, y = new_predictions['BTC'][:30], marker = 'o',color='green' )\n",
    "plt.title(\"BTC Prediction Prices vs Days\")\n",
    "plt.xlabel(\"Days\")\n",
    "plt.ylabel(\"Predicted Price\")\n",
    "\n",
    "plt.subplot(3,2,6)\n",
    "new_predictions['BTC_ACTUAL'][:30].plot(marker='o',color='magenta')\n",
    "plt.title(\"BTC Actual Prices vs Days\")\n",
    "plt.xlabel(\"Days\")\n",
    "plt.ylabel(\"Actual Price\")\n",
    "\n",
    "\n",
    "plt.tight_layout()\n",
    "plt.show()"
   ]
  }
 ],
 "metadata": {
  "kernelspec": {
   "display_name": "Python 3 (ipykernel)",
   "language": "python",
   "name": "python3"
  },
  "language_info": {
   "codemirror_mode": {
    "name": "ipython",
    "version": 3
   },
   "file_extension": ".py",
   "mimetype": "text/x-python",
   "name": "python",
   "nbconvert_exporter": "python",
   "pygments_lexer": "ipython3",
   "version": "3.9.7"
  },
  "papermill": {
   "default_parameters": {},
   "duration": 25.576893,
   "end_time": "2022-04-20T17:25:21.807145",
   "environment_variables": {},
   "exception": null,
   "input_path": "__notebook__.ipynb",
   "output_path": "__notebook__.ipynb",
   "parameters": {},
   "start_time": "2022-04-20T17:24:56.230252",
   "version": "2.3.3"
  }
 },
 "nbformat": 4,
 "nbformat_minor": 5
}
